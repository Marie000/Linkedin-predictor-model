{
  "nbformat": 4,
  "nbformat_minor": 0,
  "metadata": {
    "colab": {
      "provenance": [],
      "gpuType": "T4",
      "mount_file_id": "1GDpWvPZpFiza6517zm_XoKX95jzXkiv0",
      "authorship_tag": "ABX9TyOVovBK8so+hY+EBi5WqZ6M",
      "include_colab_link": true
    },
    "kernelspec": {
      "name": "python3",
      "display_name": "Python 3"
    },
    "language_info": {
      "name": "python"
    },
    "accelerator": "GPU"
  },
  "cells": [
    {
      "cell_type": "markdown",
      "metadata": {
        "id": "view-in-github",
        "colab_type": "text"
      },
      "source": [
        "<a href=\"https://colab.research.google.com/github/Marie000/Linkedin-predictor-model/blob/main/Copy_of_LinkedIn_Salary_Predictor.ipynb\" target=\"_parent\"><img src=\"https://colab.research.google.com/assets/colab-badge.svg\" alt=\"Open In Colab\"/></a>"
      ]
    },
    {
      "cell_type": "code",
      "execution_count": 1,
      "metadata": {
        "colab": {
          "base_uri": "https://localhost:8080/"
        },
        "id": "2e-78HmusBQA",
        "outputId": "48de564b-32f6-4a45-eb26-50a4a5166793"
      },
      "outputs": [
        {
          "output_type": "stream",
          "name": "stdout",
          "text": [
            "Collecting torcheval\n",
            "  Downloading torcheval-0.0.7-py3-none-any.whl (179 kB)\n",
            "\u001b[2K     \u001b[90m━━━━━━━━━━━━━━━━━━━━━━━━━━━━━━━━━━━━━━━━\u001b[0m \u001b[32m179.2/179.2 kB\u001b[0m \u001b[31m5.0 MB/s\u001b[0m eta \u001b[36m0:00:00\u001b[0m\n",
            "\u001b[?25hRequirement already satisfied: typing-extensions in /usr/local/lib/python3.10/dist-packages (from torcheval) (4.11.0)\n",
            "Installing collected packages: torcheval\n",
            "Successfully installed torcheval-0.0.7\n"
          ]
        },
        {
          "output_type": "stream",
          "name": "stderr",
          "text": [
            "/usr/local/lib/python3.10/dist-packages/torchtext/data/__init__.py:4: UserWarning: \n",
            "/!\\ IMPORTANT WARNING ABOUT TORCHTEXT STATUS /!\\ \n",
            "Torchtext is deprecated and the last released version will be 0.18 (this one). You can silence this warning by calling the following at the beginnign of your scripts: `import torchtext; torchtext.disable_torchtext_deprecation_warning()`\n",
            "  warnings.warn(torchtext._TORCHTEXT_DEPRECATION_MSG)\n",
            "/usr/local/lib/python3.10/dist-packages/torchtext/vocab/__init__.py:4: UserWarning: \n",
            "/!\\ IMPORTANT WARNING ABOUT TORCHTEXT STATUS /!\\ \n",
            "Torchtext is deprecated and the last released version will be 0.18 (this one). You can silence this warning by calling the following at the beginnign of your scripts: `import torchtext; torchtext.disable_torchtext_deprecation_warning()`\n",
            "  warnings.warn(torchtext._TORCHTEXT_DEPRECATION_MSG)\n",
            "/usr/local/lib/python3.10/dist-packages/torchtext/utils.py:4: UserWarning: \n",
            "/!\\ IMPORTANT WARNING ABOUT TORCHTEXT STATUS /!\\ \n",
            "Torchtext is deprecated and the last released version will be 0.18 (this one). You can silence this warning by calling the following at the beginnign of your scripts: `import torchtext; torchtext.disable_torchtext_deprecation_warning()`\n",
            "  warnings.warn(torchtext._TORCHTEXT_DEPRECATION_MSG)\n"
          ]
        }
      ],
      "source": [
        "!pip install torcheval\n",
        "import torch\n",
        "import torch.nn as nn\n",
        "from torch.utils.data import Dataset, DataLoader\n",
        "from torch.nn.utils.rnn import pad_sequence\n",
        "from torcheval.metrics.functional import r2_score, mean_squared_error\n",
        "import pandas as pd\n",
        "import torchtext\n",
        "import random\n",
        "import re\n",
        "from torchtext.data.utils import get_tokenizer\n",
        "from torchtext.vocab import build_vocab_from_iterator\n",
        "from sklearn.model_selection import train_test_split\n",
        "import numpy as np\n",
        "import matplotlib.pyplot as plt\n",
        "\n",
        "tokenizer = get_tokenizer(\"basic_english\")"
      ]
    },
    {
      "cell_type": "code",
      "source": [
        "device = \"cuda\" if torch.cuda.is_available() else \"cpu\"\n",
        "print(device)"
      ],
      "metadata": {
        "colab": {
          "base_uri": "https://localhost:8080/"
        },
        "id": "eAN7uTKOsGAB",
        "outputId": "daa08d38-f8f7-4f72-bf38-beaa7abf23be"
      },
      "execution_count": 2,
      "outputs": [
        {
          "output_type": "stream",
          "name": "stdout",
          "text": [
            "cuda\n"
          ]
        }
      ]
    },
    {
      "cell_type": "code",
      "source": [
        "df = pd.read_csv(\"drive/MyDrive/Job_description_data/job_postings.csv\")"
      ],
      "metadata": {
        "id": "ammvhXtDsOiw"
      },
      "execution_count": 3,
      "outputs": []
    },
    {
      "cell_type": "code",
      "source": [
        "df.drop(columns=[\"job_id\", \"company_id\", \"closed_time\", \"posting_domain\", \"sponsored\",\n",
        "                 \"formatted_work_type\", \"formatted_experience_level\", \"applies\", \"application_type\",\n",
        "                 \"expiry\", \"skills_desc\", \"scraped\", \"original_listed_time\", \"application_url\",\n",
        "                 \"job_posting_url\", \"views\", \"currency\", \"compensation_type\"],\n",
        "        inplace=True)"
      ],
      "metadata": {
        "id": "tESK7U5C0kQw"
      },
      "execution_count": 4,
      "outputs": []
    },
    {
      "cell_type": "code",
      "source": [
        "# get salary as average of max, med, min\n",
        "df['avg_salary'] = df[[\"max_salary\", \"med_salary\", \"min_salary\"]].mean(axis=1)\n"
      ],
      "metadata": {
        "id": "OZ82rG93skxw"
      },
      "execution_count": 5,
      "outputs": []
    },
    {
      "cell_type": "code",
      "source": [
        "# get annual salary from monthly, hourly, etc.\n",
        "df[\"pay_period\"].value_counts()"
      ],
      "metadata": {
        "colab": {
          "base_uri": "https://localhost:8080/"
        },
        "id": "Wwxc0_mZvHA_",
        "outputId": "906146be-bc3a-4f91-cecd-b82f60519c68"
      },
      "execution_count": 6,
      "outputs": [
        {
          "output_type": "execute_result",
          "data": {
            "text/plain": [
              "pay_period\n",
              "YEARLY     8009\n",
              "HOURLY     5036\n",
              "MONTHLY     224\n",
              "WEEKLY       82\n",
              "ONCE          1\n",
              "Name: count, dtype: int64"
            ]
          },
          "metadata": {},
          "execution_count": 6
        }
      ]
    },
    {
      "cell_type": "code",
      "source": [
        "df.loc[df[\"pay_period\"] == \"MONTHLY\", \"salary\"] = df[\"avg_salary\"] * 12\n",
        "df.loc[df[\"pay_period\"] == \"WEEKLY\", \"salary\"] = df[\"avg_salary\"] * 52\n",
        "df.loc[df[\"pay_period\"] == \"HOURLY\", \"salary\"] = df[\"avg_salary\"] * 40 * 52\n",
        "df.loc[df[\"pay_period\"] == \"YEARLY\", \"salary\"] = df[\"avg_salary\"]\n",
        "\n",
        "df.dropna(subset=[\"salary\"], inplace=True)"
      ],
      "metadata": {
        "id": "VomQvC9KvOC3"
      },
      "execution_count": 7,
      "outputs": []
    },
    {
      "cell_type": "code",
      "source": [
        "df.head(10)"
      ],
      "metadata": {
        "colab": {
          "base_uri": "https://localhost:8080/",
          "height": 748
        },
        "id": "17fBvusJzCDO",
        "outputId": "a0eeef09-9ac7-4a24-834e-d494e2a230fd"
      },
      "execution_count": 8,
      "outputs": [
        {
          "output_type": "execute_result",
          "data": {
            "text/plain": [
              "                                          title  \\\n",
              "0                         Hearing Care Provider   \n",
              "3                                          Cook   \n",
              "4   Principal Cloud Security Architect (Remote)   \n",
              "8                                    Dishwasher   \n",
              "11             Insights Analyst - Auto Industry   \n",
              "19                                Sales Manager   \n",
              "23                            Custodian/Janitor   \n",
              "24                              Body Technician   \n",
              "27                            Controls Engineer   \n",
              "28                           CDL Class B Driver   \n",
              "\n",
              "                                          description  max_salary  med_salary  \\\n",
              "0   Overview\\n\\nHearingLife is a national hearing ...         NaN     5250.00   \n",
              "3   descriptionTitle\\n\\n Looking for a great oppor...         NaN       22.27   \n",
              "4   Job Summary\\nAt iHerb, we are on a mission to ...    275834.0         NaN   \n",
              "8   descriptionTitle\\n\\n $2,000 Sign-on Bonus Guar...         NaN       19.30   \n",
              "11  Who We Are\\n\\nEscalent is an award-winning dat...     64000.0         NaN   \n",
              "19  Position Summary: Our Sales Manager has managi...    350000.0         NaN   \n",
              "23  descriptionTitle\\n\\nCome work as a Custodian a...         NaN       19.30   \n",
              "24  Company: Gerber Collision & Glass\\n\\nWELCOME T...        30.0         NaN   \n",
              "27  Head-huntress.com has a Direct Hire opportunit...    150000.0         NaN   \n",
              "28  Hi there! We are looking for punctual drivers ...        27.0         NaN   \n",
              "\n",
              "    min_salary pay_period           location  remote_allowed   listed_time  \\\n",
              "0          NaN    MONTHLY   Little River, SC             NaN  1.699090e+12   \n",
              "3          NaN     HOURLY    Aliso Viejo, CA             NaN  1.699080e+12   \n",
              "4     205956.0     YEARLY      United States             1.0  1.699090e+12   \n",
              "8          NaN     HOURLY    Aliso Viejo, CA             NaN  1.699080e+12   \n",
              "11     58000.0     YEARLY      United States             1.0  1.699090e+12   \n",
              "19    125000.0     YEARLY  Coeur d'Alene, ID             1.0  1.699080e+12   \n",
              "23         NaN     HOURLY       Altadena, CA             NaN  1.699110e+12   \n",
              "24        20.0     HOURLY       Waukesha, WI             NaN  1.699080e+12   \n",
              "27    121000.0     YEARLY        Orlando, FL             NaN  1.699080e+12   \n",
              "28        25.0     HOURLY        Oakland, CA             NaN  1.699080e+12   \n",
              "\n",
              "    work_type  avg_salary    salary  \n",
              "0   FULL_TIME     5250.00   63000.0  \n",
              "3   FULL_TIME       22.27   46321.6  \n",
              "4   FULL_TIME   240895.00  240895.0  \n",
              "8   FULL_TIME       19.30   40144.0  \n",
              "11  FULL_TIME    61000.00   61000.0  \n",
              "19  FULL_TIME   237500.00  237500.0  \n",
              "23  FULL_TIME       19.30   40144.0  \n",
              "24  FULL_TIME       25.00   52000.0  \n",
              "27  FULL_TIME   135500.00  135500.0  \n",
              "28  FULL_TIME       26.00   54080.0  "
            ],
            "text/html": [
              "\n",
              "  <div id=\"df-b8ddc081-e91b-4daa-9a85-ac3a9c88c5bf\" class=\"colab-df-container\">\n",
              "    <div>\n",
              "<style scoped>\n",
              "    .dataframe tbody tr th:only-of-type {\n",
              "        vertical-align: middle;\n",
              "    }\n",
              "\n",
              "    .dataframe tbody tr th {\n",
              "        vertical-align: top;\n",
              "    }\n",
              "\n",
              "    .dataframe thead th {\n",
              "        text-align: right;\n",
              "    }\n",
              "</style>\n",
              "<table border=\"1\" class=\"dataframe\">\n",
              "  <thead>\n",
              "    <tr style=\"text-align: right;\">\n",
              "      <th></th>\n",
              "      <th>title</th>\n",
              "      <th>description</th>\n",
              "      <th>max_salary</th>\n",
              "      <th>med_salary</th>\n",
              "      <th>min_salary</th>\n",
              "      <th>pay_period</th>\n",
              "      <th>location</th>\n",
              "      <th>remote_allowed</th>\n",
              "      <th>listed_time</th>\n",
              "      <th>work_type</th>\n",
              "      <th>avg_salary</th>\n",
              "      <th>salary</th>\n",
              "    </tr>\n",
              "  </thead>\n",
              "  <tbody>\n",
              "    <tr>\n",
              "      <th>0</th>\n",
              "      <td>Hearing Care Provider</td>\n",
              "      <td>Overview\\n\\nHearingLife is a national hearing ...</td>\n",
              "      <td>NaN</td>\n",
              "      <td>5250.00</td>\n",
              "      <td>NaN</td>\n",
              "      <td>MONTHLY</td>\n",
              "      <td>Little River, SC</td>\n",
              "      <td>NaN</td>\n",
              "      <td>1.699090e+12</td>\n",
              "      <td>FULL_TIME</td>\n",
              "      <td>5250.00</td>\n",
              "      <td>63000.0</td>\n",
              "    </tr>\n",
              "    <tr>\n",
              "      <th>3</th>\n",
              "      <td>Cook</td>\n",
              "      <td>descriptionTitle\\n\\n Looking for a great oppor...</td>\n",
              "      <td>NaN</td>\n",
              "      <td>22.27</td>\n",
              "      <td>NaN</td>\n",
              "      <td>HOURLY</td>\n",
              "      <td>Aliso Viejo, CA</td>\n",
              "      <td>NaN</td>\n",
              "      <td>1.699080e+12</td>\n",
              "      <td>FULL_TIME</td>\n",
              "      <td>22.27</td>\n",
              "      <td>46321.6</td>\n",
              "    </tr>\n",
              "    <tr>\n",
              "      <th>4</th>\n",
              "      <td>Principal Cloud Security Architect (Remote)</td>\n",
              "      <td>Job Summary\\nAt iHerb, we are on a mission to ...</td>\n",
              "      <td>275834.0</td>\n",
              "      <td>NaN</td>\n",
              "      <td>205956.0</td>\n",
              "      <td>YEARLY</td>\n",
              "      <td>United States</td>\n",
              "      <td>1.0</td>\n",
              "      <td>1.699090e+12</td>\n",
              "      <td>FULL_TIME</td>\n",
              "      <td>240895.00</td>\n",
              "      <td>240895.0</td>\n",
              "    </tr>\n",
              "    <tr>\n",
              "      <th>8</th>\n",
              "      <td>Dishwasher</td>\n",
              "      <td>descriptionTitle\\n\\n $2,000 Sign-on Bonus Guar...</td>\n",
              "      <td>NaN</td>\n",
              "      <td>19.30</td>\n",
              "      <td>NaN</td>\n",
              "      <td>HOURLY</td>\n",
              "      <td>Aliso Viejo, CA</td>\n",
              "      <td>NaN</td>\n",
              "      <td>1.699080e+12</td>\n",
              "      <td>FULL_TIME</td>\n",
              "      <td>19.30</td>\n",
              "      <td>40144.0</td>\n",
              "    </tr>\n",
              "    <tr>\n",
              "      <th>11</th>\n",
              "      <td>Insights Analyst - Auto Industry</td>\n",
              "      <td>Who We Are\\n\\nEscalent is an award-winning dat...</td>\n",
              "      <td>64000.0</td>\n",
              "      <td>NaN</td>\n",
              "      <td>58000.0</td>\n",
              "      <td>YEARLY</td>\n",
              "      <td>United States</td>\n",
              "      <td>1.0</td>\n",
              "      <td>1.699090e+12</td>\n",
              "      <td>FULL_TIME</td>\n",
              "      <td>61000.00</td>\n",
              "      <td>61000.0</td>\n",
              "    </tr>\n",
              "    <tr>\n",
              "      <th>19</th>\n",
              "      <td>Sales Manager</td>\n",
              "      <td>Position Summary: Our Sales Manager has managi...</td>\n",
              "      <td>350000.0</td>\n",
              "      <td>NaN</td>\n",
              "      <td>125000.0</td>\n",
              "      <td>YEARLY</td>\n",
              "      <td>Coeur d'Alene, ID</td>\n",
              "      <td>1.0</td>\n",
              "      <td>1.699080e+12</td>\n",
              "      <td>FULL_TIME</td>\n",
              "      <td>237500.00</td>\n",
              "      <td>237500.0</td>\n",
              "    </tr>\n",
              "    <tr>\n",
              "      <th>23</th>\n",
              "      <td>Custodian/Janitor</td>\n",
              "      <td>descriptionTitle\\n\\nCome work as a Custodian a...</td>\n",
              "      <td>NaN</td>\n",
              "      <td>19.30</td>\n",
              "      <td>NaN</td>\n",
              "      <td>HOURLY</td>\n",
              "      <td>Altadena, CA</td>\n",
              "      <td>NaN</td>\n",
              "      <td>1.699110e+12</td>\n",
              "      <td>FULL_TIME</td>\n",
              "      <td>19.30</td>\n",
              "      <td>40144.0</td>\n",
              "    </tr>\n",
              "    <tr>\n",
              "      <th>24</th>\n",
              "      <td>Body Technician</td>\n",
              "      <td>Company: Gerber Collision &amp; Glass\\n\\nWELCOME T...</td>\n",
              "      <td>30.0</td>\n",
              "      <td>NaN</td>\n",
              "      <td>20.0</td>\n",
              "      <td>HOURLY</td>\n",
              "      <td>Waukesha, WI</td>\n",
              "      <td>NaN</td>\n",
              "      <td>1.699080e+12</td>\n",
              "      <td>FULL_TIME</td>\n",
              "      <td>25.00</td>\n",
              "      <td>52000.0</td>\n",
              "    </tr>\n",
              "    <tr>\n",
              "      <th>27</th>\n",
              "      <td>Controls Engineer</td>\n",
              "      <td>Head-huntress.com has a Direct Hire opportunit...</td>\n",
              "      <td>150000.0</td>\n",
              "      <td>NaN</td>\n",
              "      <td>121000.0</td>\n",
              "      <td>YEARLY</td>\n",
              "      <td>Orlando, FL</td>\n",
              "      <td>NaN</td>\n",
              "      <td>1.699080e+12</td>\n",
              "      <td>FULL_TIME</td>\n",
              "      <td>135500.00</td>\n",
              "      <td>135500.0</td>\n",
              "    </tr>\n",
              "    <tr>\n",
              "      <th>28</th>\n",
              "      <td>CDL Class B Driver</td>\n",
              "      <td>Hi there! We are looking for punctual drivers ...</td>\n",
              "      <td>27.0</td>\n",
              "      <td>NaN</td>\n",
              "      <td>25.0</td>\n",
              "      <td>HOURLY</td>\n",
              "      <td>Oakland, CA</td>\n",
              "      <td>NaN</td>\n",
              "      <td>1.699080e+12</td>\n",
              "      <td>FULL_TIME</td>\n",
              "      <td>26.00</td>\n",
              "      <td>54080.0</td>\n",
              "    </tr>\n",
              "  </tbody>\n",
              "</table>\n",
              "</div>\n",
              "    <div class=\"colab-df-buttons\">\n",
              "\n",
              "  <div class=\"colab-df-container\">\n",
              "    <button class=\"colab-df-convert\" onclick=\"convertToInteractive('df-b8ddc081-e91b-4daa-9a85-ac3a9c88c5bf')\"\n",
              "            title=\"Convert this dataframe to an interactive table.\"\n",
              "            style=\"display:none;\">\n",
              "\n",
              "  <svg xmlns=\"http://www.w3.org/2000/svg\" height=\"24px\" viewBox=\"0 -960 960 960\">\n",
              "    <path d=\"M120-120v-720h720v720H120Zm60-500h600v-160H180v160Zm220 220h160v-160H400v160Zm0 220h160v-160H400v160ZM180-400h160v-160H180v160Zm440 0h160v-160H620v160ZM180-180h160v-160H180v160Zm440 0h160v-160H620v160Z\"/>\n",
              "  </svg>\n",
              "    </button>\n",
              "\n",
              "  <style>\n",
              "    .colab-df-container {\n",
              "      display:flex;\n",
              "      gap: 12px;\n",
              "    }\n",
              "\n",
              "    .colab-df-convert {\n",
              "      background-color: #E8F0FE;\n",
              "      border: none;\n",
              "      border-radius: 50%;\n",
              "      cursor: pointer;\n",
              "      display: none;\n",
              "      fill: #1967D2;\n",
              "      height: 32px;\n",
              "      padding: 0 0 0 0;\n",
              "      width: 32px;\n",
              "    }\n",
              "\n",
              "    .colab-df-convert:hover {\n",
              "      background-color: #E2EBFA;\n",
              "      box-shadow: 0px 1px 2px rgba(60, 64, 67, 0.3), 0px 1px 3px 1px rgba(60, 64, 67, 0.15);\n",
              "      fill: #174EA6;\n",
              "    }\n",
              "\n",
              "    .colab-df-buttons div {\n",
              "      margin-bottom: 4px;\n",
              "    }\n",
              "\n",
              "    [theme=dark] .colab-df-convert {\n",
              "      background-color: #3B4455;\n",
              "      fill: #D2E3FC;\n",
              "    }\n",
              "\n",
              "    [theme=dark] .colab-df-convert:hover {\n",
              "      background-color: #434B5C;\n",
              "      box-shadow: 0px 1px 3px 1px rgba(0, 0, 0, 0.15);\n",
              "      filter: drop-shadow(0px 1px 2px rgba(0, 0, 0, 0.3));\n",
              "      fill: #FFFFFF;\n",
              "    }\n",
              "  </style>\n",
              "\n",
              "    <script>\n",
              "      const buttonEl =\n",
              "        document.querySelector('#df-b8ddc081-e91b-4daa-9a85-ac3a9c88c5bf button.colab-df-convert');\n",
              "      buttonEl.style.display =\n",
              "        google.colab.kernel.accessAllowed ? 'block' : 'none';\n",
              "\n",
              "      async function convertToInteractive(key) {\n",
              "        const element = document.querySelector('#df-b8ddc081-e91b-4daa-9a85-ac3a9c88c5bf');\n",
              "        const dataTable =\n",
              "          await google.colab.kernel.invokeFunction('convertToInteractive',\n",
              "                                                    [key], {});\n",
              "        if (!dataTable) return;\n",
              "\n",
              "        const docLinkHtml = 'Like what you see? Visit the ' +\n",
              "          '<a target=\"_blank\" href=https://colab.research.google.com/notebooks/data_table.ipynb>data table notebook</a>'\n",
              "          + ' to learn more about interactive tables.';\n",
              "        element.innerHTML = '';\n",
              "        dataTable['output_type'] = 'display_data';\n",
              "        await google.colab.output.renderOutput(dataTable, element);\n",
              "        const docLink = document.createElement('div');\n",
              "        docLink.innerHTML = docLinkHtml;\n",
              "        element.appendChild(docLink);\n",
              "      }\n",
              "    </script>\n",
              "  </div>\n",
              "\n",
              "\n",
              "<div id=\"df-a8008527-95e2-405e-8f46-3049bd3cb7a5\">\n",
              "  <button class=\"colab-df-quickchart\" onclick=\"quickchart('df-a8008527-95e2-405e-8f46-3049bd3cb7a5')\"\n",
              "            title=\"Suggest charts\"\n",
              "            style=\"display:none;\">\n",
              "\n",
              "<svg xmlns=\"http://www.w3.org/2000/svg\" height=\"24px\"viewBox=\"0 0 24 24\"\n",
              "     width=\"24px\">\n",
              "    <g>\n",
              "        <path d=\"M19 3H5c-1.1 0-2 .9-2 2v14c0 1.1.9 2 2 2h14c1.1 0 2-.9 2-2V5c0-1.1-.9-2-2-2zM9 17H7v-7h2v7zm4 0h-2V7h2v10zm4 0h-2v-4h2v4z\"/>\n",
              "    </g>\n",
              "</svg>\n",
              "  </button>\n",
              "\n",
              "<style>\n",
              "  .colab-df-quickchart {\n",
              "      --bg-color: #E8F0FE;\n",
              "      --fill-color: #1967D2;\n",
              "      --hover-bg-color: #E2EBFA;\n",
              "      --hover-fill-color: #174EA6;\n",
              "      --disabled-fill-color: #AAA;\n",
              "      --disabled-bg-color: #DDD;\n",
              "  }\n",
              "\n",
              "  [theme=dark] .colab-df-quickchart {\n",
              "      --bg-color: #3B4455;\n",
              "      --fill-color: #D2E3FC;\n",
              "      --hover-bg-color: #434B5C;\n",
              "      --hover-fill-color: #FFFFFF;\n",
              "      --disabled-bg-color: #3B4455;\n",
              "      --disabled-fill-color: #666;\n",
              "  }\n",
              "\n",
              "  .colab-df-quickchart {\n",
              "    background-color: var(--bg-color);\n",
              "    border: none;\n",
              "    border-radius: 50%;\n",
              "    cursor: pointer;\n",
              "    display: none;\n",
              "    fill: var(--fill-color);\n",
              "    height: 32px;\n",
              "    padding: 0;\n",
              "    width: 32px;\n",
              "  }\n",
              "\n",
              "  .colab-df-quickchart:hover {\n",
              "    background-color: var(--hover-bg-color);\n",
              "    box-shadow: 0 1px 2px rgba(60, 64, 67, 0.3), 0 1px 3px 1px rgba(60, 64, 67, 0.15);\n",
              "    fill: var(--button-hover-fill-color);\n",
              "  }\n",
              "\n",
              "  .colab-df-quickchart-complete:disabled,\n",
              "  .colab-df-quickchart-complete:disabled:hover {\n",
              "    background-color: var(--disabled-bg-color);\n",
              "    fill: var(--disabled-fill-color);\n",
              "    box-shadow: none;\n",
              "  }\n",
              "\n",
              "  .colab-df-spinner {\n",
              "    border: 2px solid var(--fill-color);\n",
              "    border-color: transparent;\n",
              "    border-bottom-color: var(--fill-color);\n",
              "    animation:\n",
              "      spin 1s steps(1) infinite;\n",
              "  }\n",
              "\n",
              "  @keyframes spin {\n",
              "    0% {\n",
              "      border-color: transparent;\n",
              "      border-bottom-color: var(--fill-color);\n",
              "      border-left-color: var(--fill-color);\n",
              "    }\n",
              "    20% {\n",
              "      border-color: transparent;\n",
              "      border-left-color: var(--fill-color);\n",
              "      border-top-color: var(--fill-color);\n",
              "    }\n",
              "    30% {\n",
              "      border-color: transparent;\n",
              "      border-left-color: var(--fill-color);\n",
              "      border-top-color: var(--fill-color);\n",
              "      border-right-color: var(--fill-color);\n",
              "    }\n",
              "    40% {\n",
              "      border-color: transparent;\n",
              "      border-right-color: var(--fill-color);\n",
              "      border-top-color: var(--fill-color);\n",
              "    }\n",
              "    60% {\n",
              "      border-color: transparent;\n",
              "      border-right-color: var(--fill-color);\n",
              "    }\n",
              "    80% {\n",
              "      border-color: transparent;\n",
              "      border-right-color: var(--fill-color);\n",
              "      border-bottom-color: var(--fill-color);\n",
              "    }\n",
              "    90% {\n",
              "      border-color: transparent;\n",
              "      border-bottom-color: var(--fill-color);\n",
              "    }\n",
              "  }\n",
              "</style>\n",
              "\n",
              "  <script>\n",
              "    async function quickchart(key) {\n",
              "      const quickchartButtonEl =\n",
              "        document.querySelector('#' + key + ' button');\n",
              "      quickchartButtonEl.disabled = true;  // To prevent multiple clicks.\n",
              "      quickchartButtonEl.classList.add('colab-df-spinner');\n",
              "      try {\n",
              "        const charts = await google.colab.kernel.invokeFunction(\n",
              "            'suggestCharts', [key], {});\n",
              "      } catch (error) {\n",
              "        console.error('Error during call to suggestCharts:', error);\n",
              "      }\n",
              "      quickchartButtonEl.classList.remove('colab-df-spinner');\n",
              "      quickchartButtonEl.classList.add('colab-df-quickchart-complete');\n",
              "    }\n",
              "    (() => {\n",
              "      let quickchartButtonEl =\n",
              "        document.querySelector('#df-a8008527-95e2-405e-8f46-3049bd3cb7a5 button');\n",
              "      quickchartButtonEl.style.display =\n",
              "        google.colab.kernel.accessAllowed ? 'block' : 'none';\n",
              "    })();\n",
              "  </script>\n",
              "</div>\n",
              "\n",
              "    </div>\n",
              "  </div>\n"
            ],
            "application/vnd.google.colaboratory.intrinsic+json": {
              "type": "dataframe",
              "variable_name": "df",
              "summary": "{\n  \"name\": \"df\",\n  \"rows\": 13351,\n  \"fields\": [\n    {\n      \"column\": \"title\",\n      \"properties\": {\n        \"dtype\": \"string\",\n        \"num_unique_values\": 9419,\n        \"samples\": [\n          \"Clinical Trials Manager\",\n          \"Correctional Farm Crew Leader\",\n          \"Academic Advisor - Part-Time, Alpha - an EDU Startup - $40,000/year USD\"\n        ],\n        \"semantic_type\": \"\",\n        \"description\": \"\"\n      }\n    },\n    {\n      \"column\": \"description\",\n      \"properties\": {\n        \"dtype\": \"string\",\n        \"num_unique_values\": 12160,\n        \"samples\": [\n          \"Description\\nD3 Air and Space Operations has a contingency opening for a Technical Security and Signals Countermeasures (TSSC) Practitioner at MacDIll Air Force Base FL.\\nEstimated Start: 24 Sep 23\\nEstimated Salary: $131,040.00\\nTSSC Practitioners shall conduct TSSC operations for the USSOCOM enterprise in accordance with DoDI 5240.05, USSOCOM policies and standard operating procedures; in accordance with the Foreign Intelligence Surveillance Act and compliant with Procedure 5, Part 4 of DoD 5240.1-R (Reference c), collaborate with CORB in their usage of the IPMS throughout the USSOCOM enterprise to mitigate technical threats from uncleared Foreign Nationals and US persons working in or around SCIF to include; monitoring and conducting supplemental scans in coordination with CORB for unauthorized RF and communication devices, perform forensic analysis as needed to deter the collection of NSI, and operation of the Government's preferred mobile cyber security platform. Contractors shall perform tasks such as:\\n Conduct TSSC activities IAW DoDI 5240.05, command policies and standard operating procedures governing the employment of TSSC tactics, techniques, and procedures. Update and maintain a database for electromagnetic/ RF, power-line and network baselines for comparative analysis. Support short notice, and planned full and limited scope TSSC surveys, Foreign Visit Program events, Gift Inspections, and technical evaluations globally. Detect and analyze signals of interest for RF, power-line, telephony and digital information infrastructure. Collaborate with the USSOCOM J2X, DoD TSSC enterprise, servicing law enforcement agencies, and network defenders and provide Cl support to cybersecurity. Analyze all signals of interest gathered via IPMS to determine the threat. Assist Certified TEMPEST Technical Authorities (CTTA) with technical security plans, Policy, and execution. Evaluate electronic processing equipment for security vulnerabilities Evaluate current and future TSCM equipment and produce information paper on the functionality, limitations and executability of all SOF-E, locally stored equipment. Identify physical and acoustical security deficiencies and develop corrective actions to mitigate identified deficiencies. Support agency compliance efforts with Intelligence Community Directive (ICD) 705, Physical and Technical Security Standards for SCIFs, as well as compliance with DoD and local policy standards for collateral areas. Provide complex physical and technical security SME support to facilities under construction and provide cost-effective recommendations that meet policy requirements. Recommend countermeasures to mitigate technical hazards and vulnerabilities and log them into an incident tracker/ spreadsheet. Prepare technical risk assessment products, TSSC reports of survey, after action reports, tailored briefings, and other administrative communication necessary to support the mission quarterly. Ensure all required reports are completed within established time frames, with minimal to no errors. Maintain knowledge of emerging technical threats and capabilities. Complete 80 hours of discipline-specific development and/or refresher training annually.\\nPosition Requirements\\n Graduate of Department of Defense or Federal Counterintelligence/Law Enforcement Badge & Credentialing School (IA W DoDI 5240.05). Graduate of the TSSC Fundamental Course, Inter-Agency Training Center, Fort Washington, Maryland and be certified to conduct TSCM. Must possess understanding and application of/with DoD TSSC norms, (i.e., cross agency coordination shall be conducted by PMs or designees only). Must possess and maintain Information Assurance Technician Level II certification IA W DoDI 8140.01, Cyberspace Workforce Management and DoDM 8570.01, Information Assurance Workforce Improvement Program. Must gain network traffic analysis training utilizing PCAP data and analysis tools, (i.e., Wireshark, Network miner, etc.) within 1 year of employment. 6 years TSSC experience performing each of the following: Advice & Assistance, Executive Travel Support, Penetration Investigations, In-Conference Monitoring, Technical Threat Briefs and countermeasures recommendations. 6 years\\u2019 experience with the installation, analysis and operation of semi-automated receivers, antenna port switchers, small networks, direction finding tools and software as they relate to TSSC missions and operations. Current Top-Secret clearance with SCI eligibility. Must possess and maintain a valid U.S. Passport. Must possess bearing 30 decibels or better in both ears in the 500, l 000, and 2000 Hz ranges. Vision must be correctable to 20/20, distant and near, through normal vision or corrective measures. Must possess normal color vision. Must possess dexterity in all extremities. Must be able to lift fifty pounds and carry for fifty feet. Must be able to climb a six-foot ladder. Must be able to crawl beneath a three-foot barrier.\\nAbout the Organization D3 Air and Space Operations, Inc was founded Sept 11th 2006 to provide worldwide, full service expertise to lead, manage, advise and staff complex aviation, space and cyberspace operations. Headquartered in St. Augustine, Florida, D3 has locations throughout the United States and currently serves defense, public, and commercial customers by providing targeted management, cyberspace, and aerospace solutions. Our team has the background, insight, and expertise necessary to execute high-visibility, high-priority, no-fail operations for our clients.\\nEOE Statement We are an equal employment opportunity employer. All qualified applicants will receive consideration for employment without regard to race, color, religion, sex/gender, sexual orientation, gender identity, national origin, disability or veterans' status.\",\n          \"Job Description\\n\\nWho We Are\\n\\nChapter & Verse is a division of Horizon Media, focused on the Next-Generation Engagement, including Web3 and the Metaverse. Our goal is to educate, enrich, and empower brands around topics including NFTs, avatars, blockchain and other areas to ideate, execute and iterate within these emerging arenas to delight consumers and drive business goals.\\n\\nWe are part of Horizon Media, founded in 1989 by Bill Koenigsberg, is recognized as one of the most innovative marketing and advertising firms. We are headquartered in New York City, with offices in Los Angeles and Toronto. A leader in driving business solutions for marketers, Horizon is known for its highly personal approach to client service.\\n\\nAt Chapter & Verse, we understand the value of different perspectives and the power of culture and creativity. We want to fill our sandbox with thinkers, builders and leaders to drive impact for our teams and clients.\\n\\nIf joining a nascent team, where your contribution is visible and valued, then read on!\\n\\nWhat You\\u2019ll Do\\n\\nMarketing Managers are solutions-driven project leaders with a focus on maintaining and cultivating healthy, productive relationships through strong communication skills and resource management.\\n\\nThe Marketing Manager leads and manages the progression of assignments, while owning communication across all internal teams. The Marketing Manager also helps in the research, ideation and presentation of concepts for teams and clients.\\n\\nAs part of the role, the Marketing Manager creates and maintains project plans that demonstrate a cohesive understanding of deliverables, tasks, dependencies, staff resourcing and agency process to proactively move the Agency and Client teams towards completion of project deliverables. These plans could include various administrative activities, such as building project schedules, cost estimates, forecasting hours for projects, coordinating with different teams to ensure projects are completed on time, that all stakeholders have reviewed and approved in a timely manner, and enforce process during execution.\\n\\nThis role will primarily focus on client service and support.\\n\\nKey Responsibilities Include\\n\\nResearch \\n\\nSurface relevant information related to the subject area and opportunity, ranging from Crypto to Spatial AR (and more) Understand assigned campaign objectives, targeting, and support material nuances, including differences in segment treatments, branding, etc. to ensure all deliverables align with the brand\\u2019s guidelines and strategy \\n\\nStrategy \\n\\nParticipate in brainstorms and generation of ideas for teams and clients Create drafts of documents related to business activities based on establish goals \\n\\nProject Management \\n\\nEffectively leading and motivating internal teams to produce best in class work Assist with team events, 3rd party partner management and/or other needs Play a role in the marketing plans and activities Assess project risks and proactively communicate contingency plans to stakeholders Collaborate with Account and Production leads to plan out and implement efficient ways of working, as well as proactively develop new ways of working as needed Lead production based Financial Account Management, budgeting, billing and invoicing, in partnership with Account Team Manage campaign assets and trafficking of all materials, including reviewing all art files and building/reviewing specs for accuracy Coordinate and manage internal and external meetings, to ensure timely check ins, presentations, approvals, etc. required to ensure on time delivery of program execution \\n\\nWho You Are\\n\\nSelf-starter who is able to listen and think on their feet Effective organizational & multi-tasking skills with proven ability to support multiple campaigns/initiatives for multiple stakeholders while effectively managing conflicting priorities Ability to quickly adapt between strategic and tactical thinking and work well within both Strong interpersonal skills Outstanding communication skills, written & verbal Ability to work with all levels of management (client and internal), teams and vendors Proven experience effectively problem solving; ability to analyze problems and produce a viable solution Financial skills needed to manage production budgets & invoicing \\n\\nPreferred Skills & Experience\\n\\nBachelor's degree required 2+ years of experience in media agency and/or related vendor or startup environment Project management experience leading cross-functional teams in the development and delivery of media and/or creative assets Proficiency with Microsoft Office (Teams, Excel, Word, PowerPoint) and Google Drive equivalents \\n\\nCertificates, Licenses and Registrations\\n\\nThere are no requirements for certificates, licenses and registrations.\\n\\nPhysical Activity and Work Environment\\n\\nThere are no requirements for physical activity and work environment.\\n\\nThe statements herein are intended to describe the general nature and level of work being performed by employees and are not to be construed as an exhaustive list of responsibilities, duties and skills required of personnel so classified. Furthermore, they do not establish a contract for employment and are subject to change at the discretion of the employer.\\n\\n#HM\\n\\nHorizon Media is proud to be an equal opportunity workplace. We are committed to equal employment opportunity regardless of race, color, ancestry, religion, sex, national origin, sexual orientation, age, citizenship, marital status, disability, gender identity or Veteran status. We also consider qualified applicants regardless of criminal histories, consistent with legal requirements.\\n\\nSalary Range\\n\\n$100,000.00 - $125,000.00\\n\\nA successful applicant\\u2019s actual base salary may vary based upon, but not limited to, skill sets, experience and training, licensure/certifications, and equity. As an organization, we take an aptitude and competency-based hiring approach. We provide a competitive total rewards package including a discretionary bonus and a variety of benefits including health insurance coverage, life and disability insurance, retirement savings plans, company paid holidays and unlimited paid time off (PTO), mental health and wellness resources, pet insurance, childcare resources, identity theft insurance, fertility assistance programs, and fitness reimbursement.\\n\\n\",\n          \"Description\\nHourly Wage Estimate: $21.41 - $28.36 / hour\\nLearn More About The Benefits Offered For This Job.\\nThe estimate displayed represents the typical wage range of candidates hired. Factors that may be used to determine your actual salary may include your specific skills, how many years of experience you have and comparison to other employees already in this role. The typical candidate is hired below midpoint of the range.\\nIntroduction\\nDo you have the PRN career opportunities as a(an) Laboratory Assistant PRN you want with your current employer? We have an exciting opportunity for you to join Swedish Medical Center which is part of the nation's leading provider of healthcare services, HCA Healthcare.\\nBenefits\\nSwedish Medical Center, offers a total rewards package that supports the health, life, career and retirement of our colleagues. The available plans and programs include:\\nComprehensive medical coverage that covers many common services at no cost or for a low copay. Plans include prescription drug and behavioral health coverage as well as telemedicine services and free AirMed medical transportation. Additional options for dental and vision benefits, life and disability coverage, flexible spending accounts, supplemental health protection plans (accident, critical illness, hospital indemnity), auto and home insurance, identity theft protection, legal counseling, long-term care coverage, moving assistance, pet insurance and more. Fertility and family building benefits through Progyny Free counseling services and resources for emotional, physical and financial wellbeing Family support, including adoption assistance, child and elder care resources and consumer discounts401(k) Plan with a 100% match on 3% to 9% of pay (based on years of service)Employee Stock Purchase Plan Retirement readiness and rollover services and preferred banking partnerships Education assistance (tuition, student loan, certification support, dependent scholarships) Colleague recognition program Time Away From Work Program (paid time off, paid family leave, long- and short-term disability coverage and leaves of absence) \\nLearn More About Employee Benefits\\nNote: Eligibility for benefits may vary by location.\\nOur teams are a committed, caring group of colleagues. Do you want to work as a(an) Laboratory Assistant PRN where your passion for creating positive patient interactions are valued? If you are dedicated to caring for the well-being of others, this could be your next opportunity. We want your knowledge and expertise!\\nJob Summary And Qualification\\nJob Summary:\\nPerforms all technical procedures, maintains knowledge of all procedures and protocols pertinent to the departmentMaintains proficiency in performance of technical procedures, including venipuncture and capillary puncture on patients of all agesCollects and processes specimens on patients of all ages as requiredFulfill test requests and charts results on patients with many different clinical conditions (from screening of healthy outpatients up to and including the major, complex intensive care patients) and all age ranges from newborns to geriatric patientsAssists in the clerical duties of the department. Performs required function verification of equipmentCommunicates with other allied health care professionals and patients according to job requirements\\nWhat qualifications you will need:\\nLicensure/Certification/Registration: Phlebotomy certification preferred\\nEducation: High school diploma or better\\nExperience: Healthcare experience as a Phlebotomist, 1 \\u2013 2 years preferred and/or completion of formal phlebotomy class preferred.\\nKnowledge/Skills/Abilities: Must have effective verbal and written communication skills in order to communicate in a clear and concise manner with coworkers, physicians, nursing staff and patients. Must demonstrate above average manual dexterity. Must have the ability to type proficiently (at least 30 words per minute) on the computer.\\nSwedish Medical Center, part of HCA Healthcare\\u2019s HealthONE family of hospitals, is located in the south metro Denver area where it has been a proud member of the community for more than 110 years. An acute care hospital with 408 plus licensed beds, annually Swedish cares for more than 200,000 patients with a team of 2,000 dedicated employees, 500 volunteers and more than 1,400 physicians.\\nWith stroke door to treatment times averaging just 20 minutes, faster than any other facility in the world, Swedish serves as the Rocky Mountain Region\\u2019s referral center for the most advanced stroke treatment. Swedish also serves as the region\\u2019s neurotrauma and orthopedic trauma provider and is the area\\u2019s only Level I trauma facility with a dedicated burn and reconstructive center.\\nSwedish Medical Center offers patients the highest quality care and the most advanced technologies and treatments in nearly every medical specialty including adult and pediatric emergency, heart care, neurology/neurosurgery, pregnancy and childbirth, orthopedics and joint replacement, cancer care, gastroenterology and liver care, gynecology and urology.\\nHCA Healthcare has been recognized as one of the World\\u2019s Most Ethical Companies\\u00ae by the Ethisphere Institute more than ten times. In recent years, HCA Healthcare spent an estimated $3.7 billion in cost for the delivery of charitable care, uninsured discounts, and other uncompensated expenses.\\n\\\"Bricks and mortar do not make a hospital. People do.\\\"- Dr. Thomas Frist, Sr.\\nHCA Healthcare Co-Founder\\nIf you are looking for an opportunity that provides satisfaction and personal growth, we encourage you to apply for our Laboratory Assistant PRN opening. We review all applications. Qualified candidates will be contacted for interviews. Unlock the possibilities and apply today!\\nWe are an equal opportunity employer and value diversity at our company. We do not discriminate on the basis of race, religion, color, national origin, gender, sexual orientation, age, marital status, veteran status, or disability status\"\n        ],\n        \"semantic_type\": \"\",\n        \"description\": \"\"\n      }\n    },\n    {\n      \"column\": \"max_salary\",\n      \"properties\": {\n        \"dtype\": \"number\",\n        \"std\": 87644.96493278677,\n        \"min\": 10.0,\n        \"max\": 1300000.0,\n        \"num_unique_values\": 2359,\n        \"samples\": [\n          104016.0,\n          183368.0,\n          121014.0\n        ],\n        \"semantic_type\": \"\",\n        \"description\": \"\"\n      }\n    },\n    {\n      \"column\": \"med_salary\",\n      \"properties\": {\n        \"dtype\": \"number\",\n        \"std\": 76860.42252774943,\n        \"min\": 0.0,\n        \"max\": 998426.0,\n        \"num_unique_values\": 593,\n        \"samples\": [\n          70857.0,\n          300000.0,\n          24035.0\n        ],\n        \"semantic_type\": \"\",\n        \"description\": \"\"\n      }\n    },\n    {\n      \"column\": \"min_salary\",\n      \"properties\": {\n        \"dtype\": \"number\",\n        \"std\": 58732.285996169354,\n        \"min\": 7.25,\n        \"max\": 800000.0,\n        \"num_unique_values\": 2152,\n        \"samples\": [\n          61422.0,\n          24.09,\n          40.66\n        ],\n        \"semantic_type\": \"\",\n        \"description\": \"\"\n      }\n    },\n    {\n      \"column\": \"pay_period\",\n      \"properties\": {\n        \"dtype\": \"category\",\n        \"num_unique_values\": 4,\n        \"samples\": [\n          \"HOURLY\",\n          \"WEEKLY\",\n          \"MONTHLY\"\n        ],\n        \"semantic_type\": \"\",\n        \"description\": \"\"\n      }\n    },\n    {\n      \"column\": \"location\",\n      \"properties\": {\n        \"dtype\": \"category\",\n        \"num_unique_values\": 2563,\n        \"samples\": [\n          \"Ponte Vedra, FL\",\n          \"Huntington, WV\",\n          \"Roosevelt, UT\"\n        ],\n        \"semantic_type\": \"\",\n        \"description\": \"\"\n      }\n    },\n    {\n      \"column\": \"remote_allowed\",\n      \"properties\": {\n        \"dtype\": \"number\",\n        \"std\": 0.0,\n        \"min\": 1.0,\n        \"max\": 1.0,\n        \"num_unique_values\": 1,\n        \"samples\": [\n          1.0\n        ],\n        \"semantic_type\": \"\",\n        \"description\": \"\"\n      }\n    },\n    {\n      \"column\": \"listed_time\",\n      \"properties\": {\n        \"dtype\": \"number\",\n        \"std\": 3134747383.1262054,\n        \"min\": 1691670000000.0,\n        \"max\": 1699140000000.0,\n        \"num_unique_values\": 61,\n        \"samples\": [\n          1699090000000.0\n        ],\n        \"semantic_type\": \"\",\n        \"description\": \"\"\n      }\n    },\n    {\n      \"column\": \"work_type\",\n      \"properties\": {\n        \"dtype\": \"category\",\n        \"num_unique_values\": 6,\n        \"samples\": [\n          \"FULL_TIME\"\n        ],\n        \"semantic_type\": \"\",\n        \"description\": \"\"\n      }\n    },\n    {\n      \"column\": \"avg_salary\",\n      \"properties\": {\n        \"dtype\": \"number\",\n        \"std\": 74462.14831972959,\n        \"min\": 0.0,\n        \"max\": 1050000.0,\n        \"num_unique_values\": 3206,\n        \"samples\": [\n          136564.0\n        ],\n        \"semantic_type\": \"\",\n        \"description\": \"\"\n      }\n    },\n    {\n      \"column\": \"salary\",\n      \"properties\": {\n        \"dtype\": \"number\",\n        \"std\": 3416180.8593017403,\n        \"min\": 0.0,\n        \"max\": 343200000.0,\n        \"num_unique_values\": 3190,\n        \"samples\": [\n          48568.0\n        ],\n        \"semantic_type\": \"\",\n        \"description\": \"\"\n      }\n    }\n  ]\n}"
            }
          },
          "metadata": {},
          "execution_count": 8
        }
      ]
    },
    {
      "cell_type": "code",
      "source": [
        "df.drop(columns=[\"max_salary\", \"med_salary\", \"min_salary\", \"pay_period\", \"avg_salary\" ], inplace=True)"
      ],
      "metadata": {
        "id": "6SnwZuCFzx2k"
      },
      "execution_count": 9,
      "outputs": []
    },
    {
      "cell_type": "code",
      "source": [
        "df.head()"
      ],
      "metadata": {
        "colab": {
          "base_uri": "https://localhost:8080/",
          "height": 293
        },
        "id": "7wgoflpL2dav",
        "outputId": "ceb27c78-4510-48af-db4e-93e49b49e172"
      },
      "execution_count": 10,
      "outputs": [
        {
          "output_type": "execute_result",
          "data": {
            "text/plain": [
              "                                          title  \\\n",
              "0                         Hearing Care Provider   \n",
              "3                                          Cook   \n",
              "4   Principal Cloud Security Architect (Remote)   \n",
              "8                                    Dishwasher   \n",
              "11             Insights Analyst - Auto Industry   \n",
              "\n",
              "                                          description          location  \\\n",
              "0   Overview\\n\\nHearingLife is a national hearing ...  Little River, SC   \n",
              "3   descriptionTitle\\n\\n Looking for a great oppor...   Aliso Viejo, CA   \n",
              "4   Job Summary\\nAt iHerb, we are on a mission to ...     United States   \n",
              "8   descriptionTitle\\n\\n $2,000 Sign-on Bonus Guar...   Aliso Viejo, CA   \n",
              "11  Who We Are\\n\\nEscalent is an award-winning dat...     United States   \n",
              "\n",
              "    remote_allowed   listed_time  work_type    salary  \n",
              "0              NaN  1.699090e+12  FULL_TIME   63000.0  \n",
              "3              NaN  1.699080e+12  FULL_TIME   46321.6  \n",
              "4              1.0  1.699090e+12  FULL_TIME  240895.0  \n",
              "8              NaN  1.699080e+12  FULL_TIME   40144.0  \n",
              "11             1.0  1.699090e+12  FULL_TIME   61000.0  "
            ],
            "text/html": [
              "\n",
              "  <div id=\"df-13fd680c-973b-41f4-be69-693ac996e4f0\" class=\"colab-df-container\">\n",
              "    <div>\n",
              "<style scoped>\n",
              "    .dataframe tbody tr th:only-of-type {\n",
              "        vertical-align: middle;\n",
              "    }\n",
              "\n",
              "    .dataframe tbody tr th {\n",
              "        vertical-align: top;\n",
              "    }\n",
              "\n",
              "    .dataframe thead th {\n",
              "        text-align: right;\n",
              "    }\n",
              "</style>\n",
              "<table border=\"1\" class=\"dataframe\">\n",
              "  <thead>\n",
              "    <tr style=\"text-align: right;\">\n",
              "      <th></th>\n",
              "      <th>title</th>\n",
              "      <th>description</th>\n",
              "      <th>location</th>\n",
              "      <th>remote_allowed</th>\n",
              "      <th>listed_time</th>\n",
              "      <th>work_type</th>\n",
              "      <th>salary</th>\n",
              "    </tr>\n",
              "  </thead>\n",
              "  <tbody>\n",
              "    <tr>\n",
              "      <th>0</th>\n",
              "      <td>Hearing Care Provider</td>\n",
              "      <td>Overview\\n\\nHearingLife is a national hearing ...</td>\n",
              "      <td>Little River, SC</td>\n",
              "      <td>NaN</td>\n",
              "      <td>1.699090e+12</td>\n",
              "      <td>FULL_TIME</td>\n",
              "      <td>63000.0</td>\n",
              "    </tr>\n",
              "    <tr>\n",
              "      <th>3</th>\n",
              "      <td>Cook</td>\n",
              "      <td>descriptionTitle\\n\\n Looking for a great oppor...</td>\n",
              "      <td>Aliso Viejo, CA</td>\n",
              "      <td>NaN</td>\n",
              "      <td>1.699080e+12</td>\n",
              "      <td>FULL_TIME</td>\n",
              "      <td>46321.6</td>\n",
              "    </tr>\n",
              "    <tr>\n",
              "      <th>4</th>\n",
              "      <td>Principal Cloud Security Architect (Remote)</td>\n",
              "      <td>Job Summary\\nAt iHerb, we are on a mission to ...</td>\n",
              "      <td>United States</td>\n",
              "      <td>1.0</td>\n",
              "      <td>1.699090e+12</td>\n",
              "      <td>FULL_TIME</td>\n",
              "      <td>240895.0</td>\n",
              "    </tr>\n",
              "    <tr>\n",
              "      <th>8</th>\n",
              "      <td>Dishwasher</td>\n",
              "      <td>descriptionTitle\\n\\n $2,000 Sign-on Bonus Guar...</td>\n",
              "      <td>Aliso Viejo, CA</td>\n",
              "      <td>NaN</td>\n",
              "      <td>1.699080e+12</td>\n",
              "      <td>FULL_TIME</td>\n",
              "      <td>40144.0</td>\n",
              "    </tr>\n",
              "    <tr>\n",
              "      <th>11</th>\n",
              "      <td>Insights Analyst - Auto Industry</td>\n",
              "      <td>Who We Are\\n\\nEscalent is an award-winning dat...</td>\n",
              "      <td>United States</td>\n",
              "      <td>1.0</td>\n",
              "      <td>1.699090e+12</td>\n",
              "      <td>FULL_TIME</td>\n",
              "      <td>61000.0</td>\n",
              "    </tr>\n",
              "  </tbody>\n",
              "</table>\n",
              "</div>\n",
              "    <div class=\"colab-df-buttons\">\n",
              "\n",
              "  <div class=\"colab-df-container\">\n",
              "    <button class=\"colab-df-convert\" onclick=\"convertToInteractive('df-13fd680c-973b-41f4-be69-693ac996e4f0')\"\n",
              "            title=\"Convert this dataframe to an interactive table.\"\n",
              "            style=\"display:none;\">\n",
              "\n",
              "  <svg xmlns=\"http://www.w3.org/2000/svg\" height=\"24px\" viewBox=\"0 -960 960 960\">\n",
              "    <path d=\"M120-120v-720h720v720H120Zm60-500h600v-160H180v160Zm220 220h160v-160H400v160Zm0 220h160v-160H400v160ZM180-400h160v-160H180v160Zm440 0h160v-160H620v160ZM180-180h160v-160H180v160Zm440 0h160v-160H620v160Z\"/>\n",
              "  </svg>\n",
              "    </button>\n",
              "\n",
              "  <style>\n",
              "    .colab-df-container {\n",
              "      display:flex;\n",
              "      gap: 12px;\n",
              "    }\n",
              "\n",
              "    .colab-df-convert {\n",
              "      background-color: #E8F0FE;\n",
              "      border: none;\n",
              "      border-radius: 50%;\n",
              "      cursor: pointer;\n",
              "      display: none;\n",
              "      fill: #1967D2;\n",
              "      height: 32px;\n",
              "      padding: 0 0 0 0;\n",
              "      width: 32px;\n",
              "    }\n",
              "\n",
              "    .colab-df-convert:hover {\n",
              "      background-color: #E2EBFA;\n",
              "      box-shadow: 0px 1px 2px rgba(60, 64, 67, 0.3), 0px 1px 3px 1px rgba(60, 64, 67, 0.15);\n",
              "      fill: #174EA6;\n",
              "    }\n",
              "\n",
              "    .colab-df-buttons div {\n",
              "      margin-bottom: 4px;\n",
              "    }\n",
              "\n",
              "    [theme=dark] .colab-df-convert {\n",
              "      background-color: #3B4455;\n",
              "      fill: #D2E3FC;\n",
              "    }\n",
              "\n",
              "    [theme=dark] .colab-df-convert:hover {\n",
              "      background-color: #434B5C;\n",
              "      box-shadow: 0px 1px 3px 1px rgba(0, 0, 0, 0.15);\n",
              "      filter: drop-shadow(0px 1px 2px rgba(0, 0, 0, 0.3));\n",
              "      fill: #FFFFFF;\n",
              "    }\n",
              "  </style>\n",
              "\n",
              "    <script>\n",
              "      const buttonEl =\n",
              "        document.querySelector('#df-13fd680c-973b-41f4-be69-693ac996e4f0 button.colab-df-convert');\n",
              "      buttonEl.style.display =\n",
              "        google.colab.kernel.accessAllowed ? 'block' : 'none';\n",
              "\n",
              "      async function convertToInteractive(key) {\n",
              "        const element = document.querySelector('#df-13fd680c-973b-41f4-be69-693ac996e4f0');\n",
              "        const dataTable =\n",
              "          await google.colab.kernel.invokeFunction('convertToInteractive',\n",
              "                                                    [key], {});\n",
              "        if (!dataTable) return;\n",
              "\n",
              "        const docLinkHtml = 'Like what you see? Visit the ' +\n",
              "          '<a target=\"_blank\" href=https://colab.research.google.com/notebooks/data_table.ipynb>data table notebook</a>'\n",
              "          + ' to learn more about interactive tables.';\n",
              "        element.innerHTML = '';\n",
              "        dataTable['output_type'] = 'display_data';\n",
              "        await google.colab.output.renderOutput(dataTable, element);\n",
              "        const docLink = document.createElement('div');\n",
              "        docLink.innerHTML = docLinkHtml;\n",
              "        element.appendChild(docLink);\n",
              "      }\n",
              "    </script>\n",
              "  </div>\n",
              "\n",
              "\n",
              "<div id=\"df-498c980f-1473-46ce-b359-c1a9d49db963\">\n",
              "  <button class=\"colab-df-quickchart\" onclick=\"quickchart('df-498c980f-1473-46ce-b359-c1a9d49db963')\"\n",
              "            title=\"Suggest charts\"\n",
              "            style=\"display:none;\">\n",
              "\n",
              "<svg xmlns=\"http://www.w3.org/2000/svg\" height=\"24px\"viewBox=\"0 0 24 24\"\n",
              "     width=\"24px\">\n",
              "    <g>\n",
              "        <path d=\"M19 3H5c-1.1 0-2 .9-2 2v14c0 1.1.9 2 2 2h14c1.1 0 2-.9 2-2V5c0-1.1-.9-2-2-2zM9 17H7v-7h2v7zm4 0h-2V7h2v10zm4 0h-2v-4h2v4z\"/>\n",
              "    </g>\n",
              "</svg>\n",
              "  </button>\n",
              "\n",
              "<style>\n",
              "  .colab-df-quickchart {\n",
              "      --bg-color: #E8F0FE;\n",
              "      --fill-color: #1967D2;\n",
              "      --hover-bg-color: #E2EBFA;\n",
              "      --hover-fill-color: #174EA6;\n",
              "      --disabled-fill-color: #AAA;\n",
              "      --disabled-bg-color: #DDD;\n",
              "  }\n",
              "\n",
              "  [theme=dark] .colab-df-quickchart {\n",
              "      --bg-color: #3B4455;\n",
              "      --fill-color: #D2E3FC;\n",
              "      --hover-bg-color: #434B5C;\n",
              "      --hover-fill-color: #FFFFFF;\n",
              "      --disabled-bg-color: #3B4455;\n",
              "      --disabled-fill-color: #666;\n",
              "  }\n",
              "\n",
              "  .colab-df-quickchart {\n",
              "    background-color: var(--bg-color);\n",
              "    border: none;\n",
              "    border-radius: 50%;\n",
              "    cursor: pointer;\n",
              "    display: none;\n",
              "    fill: var(--fill-color);\n",
              "    height: 32px;\n",
              "    padding: 0;\n",
              "    width: 32px;\n",
              "  }\n",
              "\n",
              "  .colab-df-quickchart:hover {\n",
              "    background-color: var(--hover-bg-color);\n",
              "    box-shadow: 0 1px 2px rgba(60, 64, 67, 0.3), 0 1px 3px 1px rgba(60, 64, 67, 0.15);\n",
              "    fill: var(--button-hover-fill-color);\n",
              "  }\n",
              "\n",
              "  .colab-df-quickchart-complete:disabled,\n",
              "  .colab-df-quickchart-complete:disabled:hover {\n",
              "    background-color: var(--disabled-bg-color);\n",
              "    fill: var(--disabled-fill-color);\n",
              "    box-shadow: none;\n",
              "  }\n",
              "\n",
              "  .colab-df-spinner {\n",
              "    border: 2px solid var(--fill-color);\n",
              "    border-color: transparent;\n",
              "    border-bottom-color: var(--fill-color);\n",
              "    animation:\n",
              "      spin 1s steps(1) infinite;\n",
              "  }\n",
              "\n",
              "  @keyframes spin {\n",
              "    0% {\n",
              "      border-color: transparent;\n",
              "      border-bottom-color: var(--fill-color);\n",
              "      border-left-color: var(--fill-color);\n",
              "    }\n",
              "    20% {\n",
              "      border-color: transparent;\n",
              "      border-left-color: var(--fill-color);\n",
              "      border-top-color: var(--fill-color);\n",
              "    }\n",
              "    30% {\n",
              "      border-color: transparent;\n",
              "      border-left-color: var(--fill-color);\n",
              "      border-top-color: var(--fill-color);\n",
              "      border-right-color: var(--fill-color);\n",
              "    }\n",
              "    40% {\n",
              "      border-color: transparent;\n",
              "      border-right-color: var(--fill-color);\n",
              "      border-top-color: var(--fill-color);\n",
              "    }\n",
              "    60% {\n",
              "      border-color: transparent;\n",
              "      border-right-color: var(--fill-color);\n",
              "    }\n",
              "    80% {\n",
              "      border-color: transparent;\n",
              "      border-right-color: var(--fill-color);\n",
              "      border-bottom-color: var(--fill-color);\n",
              "    }\n",
              "    90% {\n",
              "      border-color: transparent;\n",
              "      border-bottom-color: var(--fill-color);\n",
              "    }\n",
              "  }\n",
              "</style>\n",
              "\n",
              "  <script>\n",
              "    async function quickchart(key) {\n",
              "      const quickchartButtonEl =\n",
              "        document.querySelector('#' + key + ' button');\n",
              "      quickchartButtonEl.disabled = true;  // To prevent multiple clicks.\n",
              "      quickchartButtonEl.classList.add('colab-df-spinner');\n",
              "      try {\n",
              "        const charts = await google.colab.kernel.invokeFunction(\n",
              "            'suggestCharts', [key], {});\n",
              "      } catch (error) {\n",
              "        console.error('Error during call to suggestCharts:', error);\n",
              "      }\n",
              "      quickchartButtonEl.classList.remove('colab-df-spinner');\n",
              "      quickchartButtonEl.classList.add('colab-df-quickchart-complete');\n",
              "    }\n",
              "    (() => {\n",
              "      let quickchartButtonEl =\n",
              "        document.querySelector('#df-498c980f-1473-46ce-b359-c1a9d49db963 button');\n",
              "      quickchartButtonEl.style.display =\n",
              "        google.colab.kernel.accessAllowed ? 'block' : 'none';\n",
              "    })();\n",
              "  </script>\n",
              "</div>\n",
              "\n",
              "    </div>\n",
              "  </div>\n"
            ],
            "application/vnd.google.colaboratory.intrinsic+json": {
              "type": "dataframe",
              "variable_name": "df",
              "summary": "{\n  \"name\": \"df\",\n  \"rows\": 13351,\n  \"fields\": [\n    {\n      \"column\": \"title\",\n      \"properties\": {\n        \"dtype\": \"string\",\n        \"num_unique_values\": 9419,\n        \"samples\": [\n          \"Clinical Trials Manager\",\n          \"Correctional Farm Crew Leader\",\n          \"Academic Advisor - Part-Time, Alpha - an EDU Startup - $40,000/year USD\"\n        ],\n        \"semantic_type\": \"\",\n        \"description\": \"\"\n      }\n    },\n    {\n      \"column\": \"description\",\n      \"properties\": {\n        \"dtype\": \"string\",\n        \"num_unique_values\": 12160,\n        \"samples\": [\n          \"Description\\nD3 Air and Space Operations has a contingency opening for a Technical Security and Signals Countermeasures (TSSC) Practitioner at MacDIll Air Force Base FL.\\nEstimated Start: 24 Sep 23\\nEstimated Salary: $131,040.00\\nTSSC Practitioners shall conduct TSSC operations for the USSOCOM enterprise in accordance with DoDI 5240.05, USSOCOM policies and standard operating procedures; in accordance with the Foreign Intelligence Surveillance Act and compliant with Procedure 5, Part 4 of DoD 5240.1-R (Reference c), collaborate with CORB in their usage of the IPMS throughout the USSOCOM enterprise to mitigate technical threats from uncleared Foreign Nationals and US persons working in or around SCIF to include; monitoring and conducting supplemental scans in coordination with CORB for unauthorized RF and communication devices, perform forensic analysis as needed to deter the collection of NSI, and operation of the Government's preferred mobile cyber security platform. Contractors shall perform tasks such as:\\n Conduct TSSC activities IAW DoDI 5240.05, command policies and standard operating procedures governing the employment of TSSC tactics, techniques, and procedures. Update and maintain a database for electromagnetic/ RF, power-line and network baselines for comparative analysis. Support short notice, and planned full and limited scope TSSC surveys, Foreign Visit Program events, Gift Inspections, and technical evaluations globally. Detect and analyze signals of interest for RF, power-line, telephony and digital information infrastructure. Collaborate with the USSOCOM J2X, DoD TSSC enterprise, servicing law enforcement agencies, and network defenders and provide Cl support to cybersecurity. Analyze all signals of interest gathered via IPMS to determine the threat. Assist Certified TEMPEST Technical Authorities (CTTA) with technical security plans, Policy, and execution. Evaluate electronic processing equipment for security vulnerabilities Evaluate current and future TSCM equipment and produce information paper on the functionality, limitations and executability of all SOF-E, locally stored equipment. Identify physical and acoustical security deficiencies and develop corrective actions to mitigate identified deficiencies. Support agency compliance efforts with Intelligence Community Directive (ICD) 705, Physical and Technical Security Standards for SCIFs, as well as compliance with DoD and local policy standards for collateral areas. Provide complex physical and technical security SME support to facilities under construction and provide cost-effective recommendations that meet policy requirements. Recommend countermeasures to mitigate technical hazards and vulnerabilities and log them into an incident tracker/ spreadsheet. Prepare technical risk assessment products, TSSC reports of survey, after action reports, tailored briefings, and other administrative communication necessary to support the mission quarterly. Ensure all required reports are completed within established time frames, with minimal to no errors. Maintain knowledge of emerging technical threats and capabilities. Complete 80 hours of discipline-specific development and/or refresher training annually.\\nPosition Requirements\\n Graduate of Department of Defense or Federal Counterintelligence/Law Enforcement Badge & Credentialing School (IA W DoDI 5240.05). Graduate of the TSSC Fundamental Course, Inter-Agency Training Center, Fort Washington, Maryland and be certified to conduct TSCM. Must possess understanding and application of/with DoD TSSC norms, (i.e., cross agency coordination shall be conducted by PMs or designees only). Must possess and maintain Information Assurance Technician Level II certification IA W DoDI 8140.01, Cyberspace Workforce Management and DoDM 8570.01, Information Assurance Workforce Improvement Program. Must gain network traffic analysis training utilizing PCAP data and analysis tools, (i.e., Wireshark, Network miner, etc.) within 1 year of employment. 6 years TSSC experience performing each of the following: Advice & Assistance, Executive Travel Support, Penetration Investigations, In-Conference Monitoring, Technical Threat Briefs and countermeasures recommendations. 6 years\\u2019 experience with the installation, analysis and operation of semi-automated receivers, antenna port switchers, small networks, direction finding tools and software as they relate to TSSC missions and operations. Current Top-Secret clearance with SCI eligibility. Must possess and maintain a valid U.S. Passport. Must possess bearing 30 decibels or better in both ears in the 500, l 000, and 2000 Hz ranges. Vision must be correctable to 20/20, distant and near, through normal vision or corrective measures. Must possess normal color vision. Must possess dexterity in all extremities. Must be able to lift fifty pounds and carry for fifty feet. Must be able to climb a six-foot ladder. Must be able to crawl beneath a three-foot barrier.\\nAbout the Organization D3 Air and Space Operations, Inc was founded Sept 11th 2006 to provide worldwide, full service expertise to lead, manage, advise and staff complex aviation, space and cyberspace operations. Headquartered in St. Augustine, Florida, D3 has locations throughout the United States and currently serves defense, public, and commercial customers by providing targeted management, cyberspace, and aerospace solutions. Our team has the background, insight, and expertise necessary to execute high-visibility, high-priority, no-fail operations for our clients.\\nEOE Statement We are an equal employment opportunity employer. All qualified applicants will receive consideration for employment without regard to race, color, religion, sex/gender, sexual orientation, gender identity, national origin, disability or veterans' status.\",\n          \"Job Description\\n\\nWho We Are\\n\\nChapter & Verse is a division of Horizon Media, focused on the Next-Generation Engagement, including Web3 and the Metaverse. Our goal is to educate, enrich, and empower brands around topics including NFTs, avatars, blockchain and other areas to ideate, execute and iterate within these emerging arenas to delight consumers and drive business goals.\\n\\nWe are part of Horizon Media, founded in 1989 by Bill Koenigsberg, is recognized as one of the most innovative marketing and advertising firms. We are headquartered in New York City, with offices in Los Angeles and Toronto. A leader in driving business solutions for marketers, Horizon is known for its highly personal approach to client service.\\n\\nAt Chapter & Verse, we understand the value of different perspectives and the power of culture and creativity. We want to fill our sandbox with thinkers, builders and leaders to drive impact for our teams and clients.\\n\\nIf joining a nascent team, where your contribution is visible and valued, then read on!\\n\\nWhat You\\u2019ll Do\\n\\nMarketing Managers are solutions-driven project leaders with a focus on maintaining and cultivating healthy, productive relationships through strong communication skills and resource management.\\n\\nThe Marketing Manager leads and manages the progression of assignments, while owning communication across all internal teams. The Marketing Manager also helps in the research, ideation and presentation of concepts for teams and clients.\\n\\nAs part of the role, the Marketing Manager creates and maintains project plans that demonstrate a cohesive understanding of deliverables, tasks, dependencies, staff resourcing and agency process to proactively move the Agency and Client teams towards completion of project deliverables. These plans could include various administrative activities, such as building project schedules, cost estimates, forecasting hours for projects, coordinating with different teams to ensure projects are completed on time, that all stakeholders have reviewed and approved in a timely manner, and enforce process during execution.\\n\\nThis role will primarily focus on client service and support.\\n\\nKey Responsibilities Include\\n\\nResearch \\n\\nSurface relevant information related to the subject area and opportunity, ranging from Crypto to Spatial AR (and more) Understand assigned campaign objectives, targeting, and support material nuances, including differences in segment treatments, branding, etc. to ensure all deliverables align with the brand\\u2019s guidelines and strategy \\n\\nStrategy \\n\\nParticipate in brainstorms and generation of ideas for teams and clients Create drafts of documents related to business activities based on establish goals \\n\\nProject Management \\n\\nEffectively leading and motivating internal teams to produce best in class work Assist with team events, 3rd party partner management and/or other needs Play a role in the marketing plans and activities Assess project risks and proactively communicate contingency plans to stakeholders Collaborate with Account and Production leads to plan out and implement efficient ways of working, as well as proactively develop new ways of working as needed Lead production based Financial Account Management, budgeting, billing and invoicing, in partnership with Account Team Manage campaign assets and trafficking of all materials, including reviewing all art files and building/reviewing specs for accuracy Coordinate and manage internal and external meetings, to ensure timely check ins, presentations, approvals, etc. required to ensure on time delivery of program execution \\n\\nWho You Are\\n\\nSelf-starter who is able to listen and think on their feet Effective organizational & multi-tasking skills with proven ability to support multiple campaigns/initiatives for multiple stakeholders while effectively managing conflicting priorities Ability to quickly adapt between strategic and tactical thinking and work well within both Strong interpersonal skills Outstanding communication skills, written & verbal Ability to work with all levels of management (client and internal), teams and vendors Proven experience effectively problem solving; ability to analyze problems and produce a viable solution Financial skills needed to manage production budgets & invoicing \\n\\nPreferred Skills & Experience\\n\\nBachelor's degree required 2+ years of experience in media agency and/or related vendor or startup environment Project management experience leading cross-functional teams in the development and delivery of media and/or creative assets Proficiency with Microsoft Office (Teams, Excel, Word, PowerPoint) and Google Drive equivalents \\n\\nCertificates, Licenses and Registrations\\n\\nThere are no requirements for certificates, licenses and registrations.\\n\\nPhysical Activity and Work Environment\\n\\nThere are no requirements for physical activity and work environment.\\n\\nThe statements herein are intended to describe the general nature and level of work being performed by employees and are not to be construed as an exhaustive list of responsibilities, duties and skills required of personnel so classified. Furthermore, they do not establish a contract for employment and are subject to change at the discretion of the employer.\\n\\n#HM\\n\\nHorizon Media is proud to be an equal opportunity workplace. We are committed to equal employment opportunity regardless of race, color, ancestry, religion, sex, national origin, sexual orientation, age, citizenship, marital status, disability, gender identity or Veteran status. We also consider qualified applicants regardless of criminal histories, consistent with legal requirements.\\n\\nSalary Range\\n\\n$100,000.00 - $125,000.00\\n\\nA successful applicant\\u2019s actual base salary may vary based upon, but not limited to, skill sets, experience and training, licensure/certifications, and equity. As an organization, we take an aptitude and competency-based hiring approach. We provide a competitive total rewards package including a discretionary bonus and a variety of benefits including health insurance coverage, life and disability insurance, retirement savings plans, company paid holidays and unlimited paid time off (PTO), mental health and wellness resources, pet insurance, childcare resources, identity theft insurance, fertility assistance programs, and fitness reimbursement.\\n\\n\",\n          \"Description\\nHourly Wage Estimate: $21.41 - $28.36 / hour\\nLearn More About The Benefits Offered For This Job.\\nThe estimate displayed represents the typical wage range of candidates hired. Factors that may be used to determine your actual salary may include your specific skills, how many years of experience you have and comparison to other employees already in this role. The typical candidate is hired below midpoint of the range.\\nIntroduction\\nDo you have the PRN career opportunities as a(an) Laboratory Assistant PRN you want with your current employer? We have an exciting opportunity for you to join Swedish Medical Center which is part of the nation's leading provider of healthcare services, HCA Healthcare.\\nBenefits\\nSwedish Medical Center, offers a total rewards package that supports the health, life, career and retirement of our colleagues. The available plans and programs include:\\nComprehensive medical coverage that covers many common services at no cost or for a low copay. Plans include prescription drug and behavioral health coverage as well as telemedicine services and free AirMed medical transportation. Additional options for dental and vision benefits, life and disability coverage, flexible spending accounts, supplemental health protection plans (accident, critical illness, hospital indemnity), auto and home insurance, identity theft protection, legal counseling, long-term care coverage, moving assistance, pet insurance and more. Fertility and family building benefits through Progyny Free counseling services and resources for emotional, physical and financial wellbeing Family support, including adoption assistance, child and elder care resources and consumer discounts401(k) Plan with a 100% match on 3% to 9% of pay (based on years of service)Employee Stock Purchase Plan Retirement readiness and rollover services and preferred banking partnerships Education assistance (tuition, student loan, certification support, dependent scholarships) Colleague recognition program Time Away From Work Program (paid time off, paid family leave, long- and short-term disability coverage and leaves of absence) \\nLearn More About Employee Benefits\\nNote: Eligibility for benefits may vary by location.\\nOur teams are a committed, caring group of colleagues. Do you want to work as a(an) Laboratory Assistant PRN where your passion for creating positive patient interactions are valued? If you are dedicated to caring for the well-being of others, this could be your next opportunity. We want your knowledge and expertise!\\nJob Summary And Qualification\\nJob Summary:\\nPerforms all technical procedures, maintains knowledge of all procedures and protocols pertinent to the departmentMaintains proficiency in performance of technical procedures, including venipuncture and capillary puncture on patients of all agesCollects and processes specimens on patients of all ages as requiredFulfill test requests and charts results on patients with many different clinical conditions (from screening of healthy outpatients up to and including the major, complex intensive care patients) and all age ranges from newborns to geriatric patientsAssists in the clerical duties of the department. Performs required function verification of equipmentCommunicates with other allied health care professionals and patients according to job requirements\\nWhat qualifications you will need:\\nLicensure/Certification/Registration: Phlebotomy certification preferred\\nEducation: High school diploma or better\\nExperience: Healthcare experience as a Phlebotomist, 1 \\u2013 2 years preferred and/or completion of formal phlebotomy class preferred.\\nKnowledge/Skills/Abilities: Must have effective verbal and written communication skills in order to communicate in a clear and concise manner with coworkers, physicians, nursing staff and patients. Must demonstrate above average manual dexterity. Must have the ability to type proficiently (at least 30 words per minute) on the computer.\\nSwedish Medical Center, part of HCA Healthcare\\u2019s HealthONE family of hospitals, is located in the south metro Denver area where it has been a proud member of the community for more than 110 years. An acute care hospital with 408 plus licensed beds, annually Swedish cares for more than 200,000 patients with a team of 2,000 dedicated employees, 500 volunteers and more than 1,400 physicians.\\nWith stroke door to treatment times averaging just 20 minutes, faster than any other facility in the world, Swedish serves as the Rocky Mountain Region\\u2019s referral center for the most advanced stroke treatment. Swedish also serves as the region\\u2019s neurotrauma and orthopedic trauma provider and is the area\\u2019s only Level I trauma facility with a dedicated burn and reconstructive center.\\nSwedish Medical Center offers patients the highest quality care and the most advanced technologies and treatments in nearly every medical specialty including adult and pediatric emergency, heart care, neurology/neurosurgery, pregnancy and childbirth, orthopedics and joint replacement, cancer care, gastroenterology and liver care, gynecology and urology.\\nHCA Healthcare has been recognized as one of the World\\u2019s Most Ethical Companies\\u00ae by the Ethisphere Institute more than ten times. In recent years, HCA Healthcare spent an estimated $3.7 billion in cost for the delivery of charitable care, uninsured discounts, and other uncompensated expenses.\\n\\\"Bricks and mortar do not make a hospital. People do.\\\"- Dr. Thomas Frist, Sr.\\nHCA Healthcare Co-Founder\\nIf you are looking for an opportunity that provides satisfaction and personal growth, we encourage you to apply for our Laboratory Assistant PRN opening. We review all applications. Qualified candidates will be contacted for interviews. Unlock the possibilities and apply today!\\nWe are an equal opportunity employer and value diversity at our company. We do not discriminate on the basis of race, religion, color, national origin, gender, sexual orientation, age, marital status, veteran status, or disability status\"\n        ],\n        \"semantic_type\": \"\",\n        \"description\": \"\"\n      }\n    },\n    {\n      \"column\": \"location\",\n      \"properties\": {\n        \"dtype\": \"category\",\n        \"num_unique_values\": 2563,\n        \"samples\": [\n          \"Ponte Vedra, FL\",\n          \"Huntington, WV\",\n          \"Roosevelt, UT\"\n        ],\n        \"semantic_type\": \"\",\n        \"description\": \"\"\n      }\n    },\n    {\n      \"column\": \"remote_allowed\",\n      \"properties\": {\n        \"dtype\": \"number\",\n        \"std\": 0.0,\n        \"min\": 1.0,\n        \"max\": 1.0,\n        \"num_unique_values\": 1,\n        \"samples\": [\n          1.0\n        ],\n        \"semantic_type\": \"\",\n        \"description\": \"\"\n      }\n    },\n    {\n      \"column\": \"listed_time\",\n      \"properties\": {\n        \"dtype\": \"number\",\n        \"std\": 3134747383.1262054,\n        \"min\": 1691670000000.0,\n        \"max\": 1699140000000.0,\n        \"num_unique_values\": 61,\n        \"samples\": [\n          1699090000000.0\n        ],\n        \"semantic_type\": \"\",\n        \"description\": \"\"\n      }\n    },\n    {\n      \"column\": \"work_type\",\n      \"properties\": {\n        \"dtype\": \"category\",\n        \"num_unique_values\": 6,\n        \"samples\": [\n          \"FULL_TIME\"\n        ],\n        \"semantic_type\": \"\",\n        \"description\": \"\"\n      }\n    },\n    {\n      \"column\": \"salary\",\n      \"properties\": {\n        \"dtype\": \"number\",\n        \"std\": 3416180.8593017403,\n        \"min\": 0.0,\n        \"max\": 343200000.0,\n        \"num_unique_values\": 3190,\n        \"samples\": [\n          48568.0\n        ],\n        \"semantic_type\": \"\",\n        \"description\": \"\"\n      }\n    }\n  ]\n}"
            }
          },
          "metadata": {},
          "execution_count": 10
        }
      ]
    },
    {
      "cell_type": "code",
      "source": [
        "df['salary'].hist(bins=50)\n",
        "plt.ylabel('Number of postings')\n",
        "plt.xlabel('Salary')\n",
        "plt.show()"
      ],
      "metadata": {
        "colab": {
          "base_uri": "https://localhost:8080/",
          "height": 455
        },
        "id": "y_q1DZq42lql",
        "outputId": "c57e14a9-991c-4598-fdde-d807680e6bcc"
      },
      "execution_count": 11,
      "outputs": [
        {
          "output_type": "display_data",
          "data": {
            "text/plain": [
              "<Figure size 640x480 with 1 Axes>"
            ],
            "image/png": "[encoded data removed]"
          },
          "metadata": {}
        }
      ]
    },
    {
      "cell_type": "markdown",
      "source": [
        "well, something is wrong here."
      ],
      "metadata": {
        "id": "TuyVpJHH5yy4"
      }
    },
    {
      "cell_type": "code",
      "source": [
        "df['salary'].max()"
      ],
      "metadata": {
        "colab": {
          "base_uri": "https://localhost:8080/"
        },
        "id": "aHaSO-0K51Dv",
        "outputId": "cec6ceae-47c3-488d-ca9c-1ef21f4c896d"
      },
      "execution_count": 12,
      "outputs": [
        {
          "output_type": "execute_result",
          "data": {
            "text/plain": [
              "343200000.0"
            ]
          },
          "metadata": {},
          "execution_count": 12
        }
      ]
    },
    {
      "cell_type": "markdown",
      "source": [
        "Wow! How do I get that job?\n",
        "There seem to be some outliers."
      ],
      "metadata": {
        "id": "CF1nu70H58S6"
      }
    },
    {
      "cell_type": "code",
      "source": [
        "df.loc[df['salary'].idxmax()]"
      ],
      "metadata": {
        "colab": {
          "base_uri": "https://localhost:8080/"
        },
        "id": "fHBQd-Mz6GCc",
        "outputId": "da672af9-b2e7-4a94-d26e-0fd1f9786691"
      },
      "execution_count": 13,
      "outputs": [
        {
          "output_type": "execute_result",
          "data": {
            "text/plain": [
              "title                              Director of Business Development\n",
              "description       Want to learn more about this role and Jobot? ...\n",
              "location                                              Palo Alto, CA\n",
              "remote_allowed                                                  NaN\n",
              "listed_time                                         1692740000000.0\n",
              "work_type                                                 FULL_TIME\n",
              "salary                                                  343200000.0\n",
              "Name: 24731, dtype: object"
            ]
          },
          "metadata": {},
          "execution_count": 13
        }
      ]
    },
    {
      "cell_type": "code",
      "source": [
        "df['salary'].describe()"
      ],
      "metadata": {
        "colab": {
          "base_uri": "https://localhost:8080/"
        },
        "id": "toojjxyK576e",
        "outputId": "141fcdd1-7fbb-477c-8b7b-ee7b74ddf05f"
      },
      "execution_count": 14,
      "outputs": [
        {
          "output_type": "execute_result",
          "data": {
            "text/plain": [
              "count    1.335100e+04\n",
              "mean     1.425687e+05\n",
              "std      3.416181e+06\n",
              "min      0.000000e+00\n",
              "25%      5.200000e+04\n",
              "50%      8.250000e+04\n",
              "75%      1.238000e+05\n",
              "max      3.432000e+08\n",
              "Name: salary, dtype: float64"
            ]
          },
          "metadata": {},
          "execution_count": 14
        }
      ]
    },
    {
      "cell_type": "code",
      "source": [
        "df['salary'].nlargest(10)"
      ],
      "metadata": {
        "colab": {
          "base_uri": "https://localhost:8080/"
        },
        "id": "hjt3zrNkbRJI",
        "outputId": "180322c3-4cdf-4daf-d906-5201b03f4d24"
      },
      "execution_count": 15,
      "outputs": [
        {
          "output_type": "execute_result",
          "data": {
            "text/plain": [
              "24731    343200000.0\n",
              "14783    163381920.0\n",
              "14746    106080000.0\n",
              "6619      10908913.6\n",
              "27496      6905600.0\n",
              "27035      1050000.0\n",
              "9586       1040000.0\n",
              "23147       998426.0\n",
              "18120       875000.0\n",
              "17561       800000.0\n",
              "Name: salary, dtype: float64"
            ]
          },
          "metadata": {},
          "execution_count": 15
        }
      ]
    },
    {
      "cell_type": "code",
      "source": [
        "df['salary'].nsmallest(100)"
      ],
      "metadata": {
        "colab": {
          "base_uri": "https://localhost:8080/"
        },
        "id": "nPc0fwhYbZfN",
        "outputId": "b85aa831-2fdf-472f-f80e-d25dd580f12d"
      },
      "execution_count": 16,
      "outputs": [
        {
          "output_type": "execute_result",
          "data": {
            "text/plain": [
              "6202         0.000\n",
              "11768        0.000\n",
              "26739       13.500\n",
              "26442       15.000\n",
              "12273       15.895\n",
              "           ...    \n",
              "16820     6710.000\n",
              "11228    10000.000\n",
              "12021    10000.000\n",
              "14639    10000.000\n",
              "14720    10000.000\n",
              "Name: salary, Length: 100, dtype: float64"
            ]
          },
          "metadata": {},
          "execution_count": 16
        }
      ]
    },
    {
      "cell_type": "code",
      "source": [
        "std = df['salary'].std()\n",
        "mean = df['salary'].mean()\n",
        "\n",
        "minimum = 10000 # setting this arbitrarily\n",
        "maximum = mean + 2*std\n",
        "\n",
        "print(maximum)\n",
        "print(len(df))\n",
        "\n",
        "df = df[(df['salary'] < maximum) & (df['salary'] > minimum)]\n",
        "print(len(df))\n"
      ],
      "metadata": {
        "colab": {
          "base_uri": "https://localhost:8080/"
        },
        "id": "qCzxwyLuY-6Q",
        "outputId": "f2071ee8-d651-4ea1-d8c3-814794e11c7d"
      },
      "execution_count": 17,
      "outputs": [
        {
          "output_type": "stream",
          "name": "stdout",
          "text": [
            "6974930.433433081\n",
            "13351\n",
            "13243\n"
          ]
        }
      ]
    },
    {
      "cell_type": "code",
      "source": [
        "# ok, let's try the histogram again\n",
        "df['salary'].hist(bins=50)\n",
        "plt.ylabel('Number of postings')\n",
        "plt.xlabel('Salary')\n",
        "plt.show()"
      ],
      "metadata": {
        "colab": {
          "base_uri": "https://localhost:8080/",
          "height": 449
        },
        "id": "NPSwUX0bck4H",
        "outputId": "82d20773-2a56-4f04-8f8c-4afa0ecde7a8"
      },
      "execution_count": 18,
      "outputs": [
        {
          "output_type": "display_data",
          "data": {
            "text/plain": [
              "<Figure size 640x480 with 1 Axes>"
            ],
            "image/png": "[encoded data removed]"
          },
          "metadata": {}
        }
      ]
    },
    {
      "cell_type": "code",
      "source": [
        "# better. Still not a nice normal distribution, but removing the outliers\n",
        "# is a good start.\n",
        "# maybe a log transformation would help\n",
        "np.log(df['salary']).hist(bins=50)\n",
        "plt.ylabel('Number of postings')\n",
        "plt.xlabel('Salary')\n",
        "plt.show()\n"
      ],
      "metadata": {
        "colab": {
          "base_uri": "https://localhost:8080/",
          "height": 449
        },
        "id": "mPDtfbSmctST",
        "outputId": "a706e3d7-9715-4a9f-bff5-6b0d1e7af369"
      },
      "execution_count": 19,
      "outputs": [
        {
          "output_type": "display_data",
          "data": {
            "text/plain": [
              "<Figure size 640x480 with 1 Axes>"
            ],
            "image/png": "[encoded data removed]"
          },
          "metadata": {}
        }
      ]
    },
    {
      "cell_type": "code",
      "source": [
        "# that is looking pretty good. let's add a log_salary column and use that as a target."
      ],
      "metadata": {
        "id": "GlHgJZlNdZHO"
      },
      "execution_count": 20,
      "outputs": []
    },
    {
      "cell_type": "code",
      "source": [
        "df['log_salary'] = np.log(df['salary'])"
      ],
      "metadata": {
        "id": "FFH_Btk72eVi"
      },
      "execution_count": 21,
      "outputs": []
    },
    {
      "cell_type": "code",
      "source": [
        "df.head()"
      ],
      "metadata": {
        "colab": {
          "base_uri": "https://localhost:8080/",
          "height": 293
        },
        "id": "uuRQmtZenn9C",
        "outputId": "1001b930-b86c-4690-b1fe-717e839eb6a9"
      },
      "execution_count": 22,
      "outputs": [
        {
          "output_type": "execute_result",
          "data": {
            "text/plain": [
              "                                          title  \\\n",
              "0                         Hearing Care Provider   \n",
              "3                                          Cook   \n",
              "4   Principal Cloud Security Architect (Remote)   \n",
              "8                                    Dishwasher   \n",
              "11             Insights Analyst - Auto Industry   \n",
              "\n",
              "                                          description          location  \\\n",
              "0   Overview\\n\\nHearingLife is a national hearing ...  Little River, SC   \n",
              "3   descriptionTitle\\n\\n Looking for a great oppor...   Aliso Viejo, CA   \n",
              "4   Job Summary\\nAt iHerb, we are on a mission to ...     United States   \n",
              "8   descriptionTitle\\n\\n $2,000 Sign-on Bonus Guar...   Aliso Viejo, CA   \n",
              "11  Who We Are\\n\\nEscalent is an award-winning dat...     United States   \n",
              "\n",
              "    remote_allowed   listed_time  work_type    salary  log_salary  \n",
              "0              NaN  1.699090e+12  FULL_TIME   63000.0   11.050890  \n",
              "3              NaN  1.699080e+12  FULL_TIME   46321.6   10.743364  \n",
              "4              1.0  1.699090e+12  FULL_TIME  240895.0   12.392116  \n",
              "8              NaN  1.699080e+12  FULL_TIME   40144.0   10.600228  \n",
              "11             1.0  1.699090e+12  FULL_TIME   61000.0   11.018629  "
            ],
            "text/html": [
              "\n",
              "  <div id=\"df-abdfcaaf-4e82-4a15-9eb5-3571f4c3603c\" class=\"colab-df-container\">\n",
              "    <div>\n",
              "<style scoped>\n",
              "    .dataframe tbody tr th:only-of-type {\n",
              "        vertical-align: middle;\n",
              "    }\n",
              "\n",
              "    .dataframe tbody tr th {\n",
              "        vertical-align: top;\n",
              "    }\n",
              "\n",
              "    .dataframe thead th {\n",
              "        text-align: right;\n",
              "    }\n",
              "</style>\n",
              "<table border=\"1\" class=\"dataframe\">\n",
              "  <thead>\n",
              "    <tr style=\"text-align: right;\">\n",
              "      <th></th>\n",
              "      <th>title</th>\n",
              "      <th>description</th>\n",
              "      <th>location</th>\n",
              "      <th>remote_allowed</th>\n",
              "      <th>listed_time</th>\n",
              "      <th>work_type</th>\n",
              "      <th>salary</th>\n",
              "      <th>log_salary</th>\n",
              "    </tr>\n",
              "  </thead>\n",
              "  <tbody>\n",
              "    <tr>\n",
              "      <th>0</th>\n",
              "      <td>Hearing Care Provider</td>\n",
              "      <td>Overview\\n\\nHearingLife is a national hearing ...</td>\n",
              "      <td>Little River, SC</td>\n",
              "      <td>NaN</td>\n",
              "      <td>1.699090e+12</td>\n",
              "      <td>FULL_TIME</td>\n",
              "      <td>63000.0</td>\n",
              "      <td>11.050890</td>\n",
              "    </tr>\n",
              "    <tr>\n",
              "      <th>3</th>\n",
              "      <td>Cook</td>\n",
              "      <td>descriptionTitle\\n\\n Looking for a great oppor...</td>\n",
              "      <td>Aliso Viejo, CA</td>\n",
              "      <td>NaN</td>\n",
              "      <td>1.699080e+12</td>\n",
              "      <td>FULL_TIME</td>\n",
              "      <td>46321.6</td>\n",
              "      <td>10.743364</td>\n",
              "    </tr>\n",
              "    <tr>\n",
              "      <th>4</th>\n",
              "      <td>Principal Cloud Security Architect (Remote)</td>\n",
              "      <td>Job Summary\\nAt iHerb, we are on a mission to ...</td>\n",
              "      <td>United States</td>\n",
              "      <td>1.0</td>\n",
              "      <td>1.699090e+12</td>\n",
              "      <td>FULL_TIME</td>\n",
              "      <td>240895.0</td>\n",
              "      <td>12.392116</td>\n",
              "    </tr>\n",
              "    <tr>\n",
              "      <th>8</th>\n",
              "      <td>Dishwasher</td>\n",
              "      <td>descriptionTitle\\n\\n $2,000 Sign-on Bonus Guar...</td>\n",
              "      <td>Aliso Viejo, CA</td>\n",
              "      <td>NaN</td>\n",
              "      <td>1.699080e+12</td>\n",
              "      <td>FULL_TIME</td>\n",
              "      <td>40144.0</td>\n",
              "      <td>10.600228</td>\n",
              "    </tr>\n",
              "    <tr>\n",
              "      <th>11</th>\n",
              "      <td>Insights Analyst - Auto Industry</td>\n",
              "      <td>Who We Are\\n\\nEscalent is an award-winning dat...</td>\n",
              "      <td>United States</td>\n",
              "      <td>1.0</td>\n",
              "      <td>1.699090e+12</td>\n",
              "      <td>FULL_TIME</td>\n",
              "      <td>61000.0</td>\n",
              "      <td>11.018629</td>\n",
              "    </tr>\n",
              "  </tbody>\n",
              "</table>\n",
              "</div>\n",
              "    <div class=\"colab-df-buttons\">\n",
              "\n",
              "  <div class=\"colab-df-container\">\n",
              "    <button class=\"colab-df-convert\" onclick=\"convertToInteractive('df-abdfcaaf-4e82-4a15-9eb5-3571f4c3603c')\"\n",
              "            title=\"Convert this dataframe to an interactive table.\"\n",
              "            style=\"display:none;\">\n",
              "\n",
              "  <svg xmlns=\"http://www.w3.org/2000/svg\" height=\"24px\" viewBox=\"0 -960 960 960\">\n",
              "    <path d=\"M120-120v-720h720v720H120Zm60-500h600v-160H180v160Zm220 220h160v-160H400v160Zm0 220h160v-160H400v160ZM180-400h160v-160H180v160Zm440 0h160v-160H620v160ZM180-180h160v-160H180v160Zm440 0h160v-160H620v160Z\"/>\n",
              "  </svg>\n",
              "    </button>\n",
              "\n",
              "  <style>\n",
              "    .colab-df-container {\n",
              "      display:flex;\n",
              "      gap: 12px;\n",
              "    }\n",
              "\n",
              "    .colab-df-convert {\n",
              "      background-color: #E8F0FE;\n",
              "      border: none;\n",
              "      border-radius: 50%;\n",
              "      cursor: pointer;\n",
              "      display: none;\n",
              "      fill: #1967D2;\n",
              "      height: 32px;\n",
              "      padding: 0 0 0 0;\n",
              "      width: 32px;\n",
              "    }\n",
              "\n",
              "    .colab-df-convert:hover {\n",
              "      background-color: #E2EBFA;\n",
              "      box-shadow: 0px 1px 2px rgba(60, 64, 67, 0.3), 0px 1px 3px 1px rgba(60, 64, 67, 0.15);\n",
              "      fill: #174EA6;\n",
              "    }\n",
              "\n",
              "    .colab-df-buttons div {\n",
              "      margin-bottom: 4px;\n",
              "    }\n",
              "\n",
              "    [theme=dark] .colab-df-convert {\n",
              "      background-color: #3B4455;\n",
              "      fill: #D2E3FC;\n",
              "    }\n",
              "\n",
              "    [theme=dark] .colab-df-convert:hover {\n",
              "      background-color: #434B5C;\n",
              "      box-shadow: 0px 1px 3px 1px rgba(0, 0, 0, 0.15);\n",
              "      filter: drop-shadow(0px 1px 2px rgba(0, 0, 0, 0.3));\n",
              "      fill: #FFFFFF;\n",
              "    }\n",
              "  </style>\n",
              "\n",
              "    <script>\n",
              "      const buttonEl =\n",
              "        document.querySelector('#df-abdfcaaf-4e82-4a15-9eb5-3571f4c3603c button.colab-df-convert');\n",
              "      buttonEl.style.display =\n",
              "        google.colab.kernel.accessAllowed ? 'block' : 'none';\n",
              "\n",
              "      async function convertToInteractive(key) {\n",
              "        const element = document.querySelector('#df-abdfcaaf-4e82-4a15-9eb5-3571f4c3603c');\n",
              "        const dataTable =\n",
              "          await google.colab.kernel.invokeFunction('convertToInteractive',\n",
              "                                                    [key], {});\n",
              "        if (!dataTable) return;\n",
              "\n",
              "        const docLinkHtml = 'Like what you see? Visit the ' +\n",
              "          '<a target=\"_blank\" href=https://colab.research.google.com/notebooks/data_table.ipynb>data table notebook</a>'\n",
              "          + ' to learn more about interactive tables.';\n",
              "        element.innerHTML = '';\n",
              "        dataTable['output_type'] = 'display_data';\n",
              "        await google.colab.output.renderOutput(dataTable, element);\n",
              "        const docLink = document.createElement('div');\n",
              "        docLink.innerHTML = docLinkHtml;\n",
              "        element.appendChild(docLink);\n",
              "      }\n",
              "    </script>\n",
              "  </div>\n",
              "\n",
              "\n",
              "<div id=\"df-be9f1276-0bce-4732-8557-51678ffe2e93\">\n",
              "  <button class=\"colab-df-quickchart\" onclick=\"quickchart('df-be9f1276-0bce-4732-8557-51678ffe2e93')\"\n",
              "            title=\"Suggest charts\"\n",
              "            style=\"display:none;\">\n",
              "\n",
              "<svg xmlns=\"http://www.w3.org/2000/svg\" height=\"24px\"viewBox=\"0 0 24 24\"\n",
              "     width=\"24px\">\n",
              "    <g>\n",
              "        <path d=\"M19 3H5c-1.1 0-2 .9-2 2v14c0 1.1.9 2 2 2h14c1.1 0 2-.9 2-2V5c0-1.1-.9-2-2-2zM9 17H7v-7h2v7zm4 0h-2V7h2v10zm4 0h-2v-4h2v4z\"/>\n",
              "    </g>\n",
              "</svg>\n",
              "  </button>\n",
              "\n",
              "<style>\n",
              "  .colab-df-quickchart {\n",
              "      --bg-color: #E8F0FE;\n",
              "      --fill-color: #1967D2;\n",
              "      --hover-bg-color: #E2EBFA;\n",
              "      --hover-fill-color: #174EA6;\n",
              "      --disabled-fill-color: #AAA;\n",
              "      --disabled-bg-color: #DDD;\n",
              "  }\n",
              "\n",
              "  [theme=dark] .colab-df-quickchart {\n",
              "      --bg-color: #3B4455;\n",
              "      --fill-color: #D2E3FC;\n",
              "      --hover-bg-color: #434B5C;\n",
              "      --hover-fill-color: #FFFFFF;\n",
              "      --disabled-bg-color: #3B4455;\n",
              "      --disabled-fill-color: #666;\n",
              "  }\n",
              "\n",
              "  .colab-df-quickchart {\n",
              "    background-color: var(--bg-color);\n",
              "    border: none;\n",
              "    border-radius: 50%;\n",
              "    cursor: pointer;\n",
              "    display: none;\n",
              "    fill: var(--fill-color);\n",
              "    height: 32px;\n",
              "    padding: 0;\n",
              "    width: 32px;\n",
              "  }\n",
              "\n",
              "  .colab-df-quickchart:hover {\n",
              "    background-color: var(--hover-bg-color);\n",
              "    box-shadow: 0 1px 2px rgba(60, 64, 67, 0.3), 0 1px 3px 1px rgba(60, 64, 67, 0.15);\n",
              "    fill: var(--button-hover-fill-color);\n",
              "  }\n",
              "\n",
              "  .colab-df-quickchart-complete:disabled,\n",
              "  .colab-df-quickchart-complete:disabled:hover {\n",
              "    background-color: var(--disabled-bg-color);\n",
              "    fill: var(--disabled-fill-color);\n",
              "    box-shadow: none;\n",
              "  }\n",
              "\n",
              "  .colab-df-spinner {\n",
              "    border: 2px solid var(--fill-color);\n",
              "    border-color: transparent;\n",
              "    border-bottom-color: var(--fill-color);\n",
              "    animation:\n",
              "      spin 1s steps(1) infinite;\n",
              "  }\n",
              "\n",
              "  @keyframes spin {\n",
              "    0% {\n",
              "      border-color: transparent;\n",
              "      border-bottom-color: var(--fill-color);\n",
              "      border-left-color: var(--fill-color);\n",
              "    }\n",
              "    20% {\n",
              "      border-color: transparent;\n",
              "      border-left-color: var(--fill-color);\n",
              "      border-top-color: var(--fill-color);\n",
              "    }\n",
              "    30% {\n",
              "      border-color: transparent;\n",
              "      border-left-color: var(--fill-color);\n",
              "      border-top-color: var(--fill-color);\n",
              "      border-right-color: var(--fill-color);\n",
              "    }\n",
              "    40% {\n",
              "      border-color: transparent;\n",
              "      border-right-color: var(--fill-color);\n",
              "      border-top-color: var(--fill-color);\n",
              "    }\n",
              "    60% {\n",
              "      border-color: transparent;\n",
              "      border-right-color: var(--fill-color);\n",
              "    }\n",
              "    80% {\n",
              "      border-color: transparent;\n",
              "      border-right-color: var(--fill-color);\n",
              "      border-bottom-color: var(--fill-color);\n",
              "    }\n",
              "    90% {\n",
              "      border-color: transparent;\n",
              "      border-bottom-color: var(--fill-color);\n",
              "    }\n",
              "  }\n",
              "</style>\n",
              "\n",
              "  <script>\n",
              "    async function quickchart(key) {\n",
              "      const quickchartButtonEl =\n",
              "        document.querySelector('#' + key + ' button');\n",
              "      quickchartButtonEl.disabled = true;  // To prevent multiple clicks.\n",
              "      quickchartButtonEl.classList.add('colab-df-spinner');\n",
              "      try {\n",
              "        const charts = await google.colab.kernel.invokeFunction(\n",
              "            'suggestCharts', [key], {});\n",
              "      } catch (error) {\n",
              "        console.error('Error during call to suggestCharts:', error);\n",
              "      }\n",
              "      quickchartButtonEl.classList.remove('colab-df-spinner');\n",
              "      quickchartButtonEl.classList.add('colab-df-quickchart-complete');\n",
              "    }\n",
              "    (() => {\n",
              "      let quickchartButtonEl =\n",
              "        document.querySelector('#df-be9f1276-0bce-4732-8557-51678ffe2e93 button');\n",
              "      quickchartButtonEl.style.display =\n",
              "        google.colab.kernel.accessAllowed ? 'block' : 'none';\n",
              "    })();\n",
              "  </script>\n",
              "</div>\n",
              "\n",
              "    </div>\n",
              "  </div>\n"
            ],
            "application/vnd.google.colaboratory.intrinsic+json": {
              "type": "dataframe",
              "variable_name": "df",
              "summary": "{\n  \"name\": \"df\",\n  \"rows\": 13243,\n  \"fields\": [\n    {\n      \"column\": \"title\",\n      \"properties\": {\n        \"dtype\": \"string\",\n        \"num_unique_values\": 9343,\n        \"samples\": [\n          \"ADULT RESIDENTIAL FACILITY ADMINISTRATOR-POMONA -\",\n          \"Analytical Chemist\",\n          \"Beverage Program Manager\"\n        ],\n        \"semantic_type\": \"\",\n        \"description\": \"\"\n      }\n    },\n    {\n      \"column\": \"description\",\n      \"properties\": {\n        \"dtype\": \"string\",\n        \"num_unique_values\": 12053,\n        \"samples\": [\n          \"Description\\n\\nTradesmen International is immediately hiring experienced Wire Managers for projects located in and around Prewitt, NM . This is a first shift opportunity and the pay rate is up to $22/hour based on experience and skill level plus $90/per diem for travelers 60+ miles from the job site. If you are a Wire Manager eager to master your skills while working alongside our accomplished Craft Professionals, this is your chance to advance your career!\\n\\nJob Scope\\n\\nSolar wire managementDesigning, installing, and maintaining the electrical wiring systems in solar energy installationsWiring layout for solar panels and invertersInstalling electrical wiring including connecting solar panels, inverters and battery storage systemsEnsuring proper groundings, conducting routine inspections and maintenance to identify and address any issues that may affect the systems performanceTroubleshooting and repairing electrical problems\\n\\nCompany Details\\n\\nTradesmen International not only offers consistent work, top pay, and employment opportunities, we also provide a benefits package that is among the best in the industry.\\n\\nOur Comprehensive Benefits Include\\n\\nTradesmen+ RewardsProgram \\u2013 earn points for hours workedVacation PayHealth insurance401(k) profit-sharing savings planIncentive programsTool purchase programs & MORE!\\n\\nTradesmen International is an EO employer - M/F/Veteran/Disability\\n\\nClick here to visit Tradesmen\\u2019s full website. (http://www.tradesmeninternational.com)\\n\\nClick here to visit our Renewables Facebook Page (https://www.facebook.com/tradesmeninternationalrenewables)\\n\\nRecruiter Name\\n\\nPaula Smith\\n\\nLocation\\n\\nUS-CA-FRESNO\\n\\nPosted Date 2 hours ago (11/3/2023 6:31 PM)\\n\\nReq ID 2023-342310\\n\\nCategory Renewables\\n\\nTravel Yes\\n\\nJob Board IN\\n\\nLocation US-CA-FRESNO\",\n          \"At ZoomInfo, we encourage creativity, value innovation, demand teamwork, expect accountability and cherish results. We value your take charge, take initiative, get stuff done attitude and will help you unlock your growth potential. One great choice can change everything. Thrive with us at ZoomInfo.\\nAt ZoomInfo we encourage creativity, value innovation, demand teamwork, expect accountability and cherish results. If you are a take charge, take initiative, get stuff done individual we want to talk to you! We have high aspirations for the company and are looking for the right people to help fulfill the dream. We strive to continually improve every aspect of the company and use cutting edge technologies and processes to delight our customers and rapidly increase revenues.\\nJob Responsibilities\\nDefine and communicate the vision, strategy and roadmap for our B2B data platform that creates a single source of truth from multiple sourcesCollaborate with engineering, analysts and other product teams to deliver data solutions that are efficient, scalable and privacy-safeConduct user research, competitive analysis and market research to validate hypotheses and identify customer needs and pain pointsDefine success metrics, track progress and communicate results to stakeholdersManage trade-offs, risks and dependencies across multiple projects and teams\\nTo Be Successful In This Role, You Should Have\\n5+ years of product management experience in B2B data or related fieldsExperience in managing a data platform that deals with complex data integration, processing and analysisData-driven mindset and strong analytical skillsExcellent communication, collaboration and stakeholder management skillsKnowledge of how B2B data helps sales and marketing teams achieve their goals\\nAbout Us\\nFor over a decade, ZoomInfo has helped companies achieve their most important objective: profitable growth. Backed by the world's most comprehensive B2B database, our platform puts sales and marketing professionals in position to identify, connect, and engage with qualified prospects.\\nOur mission is to provide every company with a 360-degree view of their ideal customer, empowering each phase of their go-to-market strategy and driving their ability to hit their number.\\nThe US base salary range for this position is $133,600.00 to $183,700.00 + variable compensation + benefits.\\nActual compensation offered will be based on factors such as the candidate\\u2019s work location, qualifications, skills, experience and/or training. Your recruiter can share more information about the specific salary range for your desired work location during the hiring process.\\nWe want our employees and their families to thrive. In addition to comprehensive benefits we offer holistic mind, body and lifestyle programs designed for overall well-being. Learn more about ZoomInfo benefits here.\\nAbout Us\\nZoomInfo (NASDAQ: ZI) is the trusted go-to-market platform for businesses to find, acquire, and grow their customers. It delivers accurate, real-time data, insights, and technology to more than 35,000 companies worldwide. Businesses use ZoomInfo to increase efficiency, consolidate technology stacks, and align their sales and marketing teams \\u2014 all in one platform.\\nZoomInfo may use a software-based assessment as part of the recruitment process. More information about this tool, including the results of the most recent bias audit, is available here.\\nZoomInfo is proud to be an Equal Opportunity employer. We are committed to equal employment opportunities for applicants and employees regardless of sex, race, age, color, national origin, sexual orientation, gender identity, marital status, disability status, religion, protected military or veteran status, medical condition, or any other characteristic or status protected by applicable law. At ZoomInfo, we also consider qualified candidates with criminal histories, consistent with legal requirements.\",\n          \"Human Resources Manager, Strategic Partner\\nJoin the transformative team at City of Hope, where we're changing lives and making a real difference in the fight against cancer, diabetes, and other life-threatening illnesses. City of Hope\\u2019s growing national system includes its Los Angeles campus, a network of clinical care locations across Southern California, a new cancer center in Orange County, California, and treatment facilities in Atlanta, Chicago and Phoenix. our dedicated and compassionate employees are driven by a common mission: To deliver the cures of tomorrow to the people who need them today.\\nWe have an exciting opportunity to join our Human Resources Team in our Lennar Cancer Center in Irvine. The Human Resources Manager will be a key contributor to strategic initiatives that facilitate HR effectiveness and will be responsible for developing and deploying HR best practices to key stakeholders. CLICK HERE to learn more about the Lennar Foundation Cancer Center.\\nAs a successful candidate, you will:\\n Provide collaboration/leadership to employees across the various entities within City of Hope. Will drive HR activities that align the business strategy with the human capital strategy in order to positively impact business performance. Will consult on a wide range of HR generalist, operational and analytical activities including, but not limited to, employee relations, compensation, workforce planning/talent acquisition, employee development and engagement, organizational design, and culture.\\nYour qualifications should include: \\n Bachelor\\u2019s degree or equivalent work experience required. 5+ years relevant work experience and 2+ years working in the Healthcare industry required. 1 year of experience in leadership capacity.\\nCity of Hope is an equal opportunity employer. To learn more about our commitment to diversity, equity and inclusion, please click here\"\n        ],\n        \"semantic_type\": \"\",\n        \"description\": \"\"\n      }\n    },\n    {\n      \"column\": \"location\",\n      \"properties\": {\n        \"dtype\": \"category\",\n        \"num_unique_values\": 2552,\n        \"samples\": [\n          \"Pittsburgh, PA\",\n          \"Tampa, FL\",\n          \"Denison, IA\"\n        ],\n        \"semantic_type\": \"\",\n        \"description\": \"\"\n      }\n    },\n    {\n      \"column\": \"remote_allowed\",\n      \"properties\": {\n        \"dtype\": \"number\",\n        \"std\": 0.0,\n        \"min\": 1.0,\n        \"max\": 1.0,\n        \"num_unique_values\": 1,\n        \"samples\": [\n          1.0\n        ],\n        \"semantic_type\": \"\",\n        \"description\": \"\"\n      }\n    },\n    {\n      \"column\": \"listed_time\",\n      \"properties\": {\n        \"dtype\": \"number\",\n        \"std\": 3134787479.9500012,\n        \"min\": 1691670000000.0,\n        \"max\": 1699140000000.0,\n        \"num_unique_values\": 61,\n        \"samples\": [\n          1699090000000.0\n        ],\n        \"semantic_type\": \"\",\n        \"description\": \"\"\n      }\n    },\n    {\n      \"column\": \"work_type\",\n      \"properties\": {\n        \"dtype\": \"category\",\n        \"num_unique_values\": 6,\n        \"samples\": [\n          \"FULL_TIME\"\n        ],\n        \"semantic_type\": \"\",\n        \"description\": \"\"\n      }\n    },\n    {\n      \"column\": \"salary\",\n      \"properties\": {\n        \"dtype\": \"number\",\n        \"std\": 84355.45678337335,\n        \"min\": 10294.0,\n        \"max\": 6905600.0,\n        \"num_unique_values\": 3118,\n        \"samples\": [\n          133500.0\n        ],\n        \"semantic_type\": \"\",\n        \"description\": \"\"\n      }\n    },\n    {\n      \"column\": \"log_salary\",\n      \"properties\": {\n        \"dtype\": \"number\",\n        \"std\": 0.55941227714202,\n        \"min\": 9.2393164802127,\n        \"max\": 15.747843234605897,\n        \"num_unique_values\": 3101,\n        \"samples\": [\n          11.404783306350526\n        ],\n        \"semantic_type\": \"\",\n        \"description\": \"\"\n      }\n    }\n  ]\n}"
            }
          },
          "metadata": {},
          "execution_count": 22
        }
      ]
    },
    {
      "cell_type": "code",
      "source": [
        "#df.reset_index(inplace=True)\n",
        "#random_index = random.randint(0, len(df)-1)\n",
        "#print(df[\"description\"][random_index])"
      ],
      "metadata": {
        "id": "CHq_zFXd3JYu"
      },
      "execution_count": 23,
      "outputs": []
    },
    {
      "cell_type": "code",
      "source": [
        "def remove_salary_information(text):\n",
        "  text = re.sub(\"\\$\\d*\\,?\\d*\", \"\", text)\n",
        "  text = re.sub(\"\\d*\\,?\\d*\\$\", \"\", text)\n",
        "  text = re.sub(\"(usd|USD)\\d*\\,?\\d*\", \"\", text)\n",
        "  text = re.sub(\"\\d*\\,?\\d*(USD|usd)\", \"\", text)\n",
        "  text = re.sub(\"\\d+(k|K)\", \"\", text)\n",
        "  text = re.sub(\"\\d+[,|.]\\d+\", \"\", text)\n",
        "  return text"
      ],
      "metadata": {
        "id": "m3hitt_oiOTd"
      },
      "execution_count": 24,
      "outputs": []
    },
    {
      "cell_type": "code",
      "source": [
        "remove_salary_information(\"this krazy position pays $50 or usd50 unless you prefer 20,000 50k or 5.32\")"
      ],
      "metadata": {
        "colab": {
          "base_uri": "https://localhost:8080/",
          "height": 35
        },
        "id": "TOl8R6NRkrhz",
        "outputId": "70e77a48-9200-459c-d3a4-38124d6e29ab"
      },
      "execution_count": 25,
      "outputs": [
        {
          "output_type": "execute_result",
          "data": {
            "text/plain": [
              "'this krazy position pays  or  unless you prefer   or '"
            ],
            "application/vnd.google.colaboratory.intrinsic+json": {
              "type": "string"
            }
          },
          "metadata": {},
          "execution_count": 25
        }
      ]
    },
    {
      "cell_type": "code",
      "source": [
        "df[\"description\"] = df[\"description\"].map(remove_salary_information)"
      ],
      "metadata": {
        "id": "Rz4tjCVfkvvG"
      },
      "execution_count": 26,
      "outputs": []
    },
    {
      "cell_type": "code",
      "source": [
        "# random_index = random.randint(0, len(df)-1)\n",
        "# print(df[\"description\"][random_index])"
      ],
      "metadata": {
        "id": "5FO4Ix64ocGi"
      },
      "execution_count": 27,
      "outputs": []
    },
    {
      "cell_type": "code",
      "source": [
        "# split into train test data:\n",
        "X_train, X_test, y_train, y_test = train_test_split(df[\"description\"], df[\"log_salary\"], test_size=0.2)"
      ],
      "metadata": {
        "id": "NNpCw0LHpFCJ"
      },
      "execution_count": 28,
      "outputs": []
    },
    {
      "cell_type": "code",
      "source": [
        "print(len(X_train), len(X_test))"
      ],
      "metadata": {
        "colab": {
          "base_uri": "https://localhost:8080/"
        },
        "id": "vVEzobkEq9sU",
        "outputId": "11ee967c-a6b4-4b37-e377-63fc9ffc5b0a"
      },
      "execution_count": 29,
      "outputs": [
        {
          "output_type": "stream",
          "name": "stdout",
          "text": [
            "10594 2649\n"
          ]
        }
      ]
    },
    {
      "cell_type": "code",
      "source": [
        "def yield_tokens(data_iter):\n",
        "  for text in data_iter:\n",
        "    yield tokenizer(text)\n",
        "\n",
        "vocab = build_vocab_from_iterator(yield_tokens(X_train), specials=[\"<unk>\", \"<pad>\"], max_tokens=20000)"
      ],
      "metadata": {
        "id": "EA883iTQrBnT"
      },
      "execution_count": 30,
      "outputs": []
    },
    {
      "cell_type": "code",
      "source": [
        "vocab_size = len(vocab)\n",
        "print(vocab_size)"
      ],
      "metadata": {
        "colab": {
          "base_uri": "https://localhost:8080/"
        },
        "id": "6RUVsTdYrU7J",
        "outputId": "284e020b-9505-4371-a615-c3ae39d4bcc4"
      },
      "execution_count": 31,
      "outputs": [
        {
          "output_type": "stream",
          "name": "stdout",
          "text": [
            "20000\n"
          ]
        }
      ]
    },
    {
      "cell_type": "code",
      "source": [
        "vocab.set_default_index(vocab[\"<unk>\"])"
      ],
      "metadata": {
        "id": "_87nkwwDrZur"
      },
      "execution_count": 32,
      "outputs": []
    },
    {
      "cell_type": "code",
      "source": [
        "torch.save(vocab, \"drive/MyDrive/Job_description_data/vocab.pt\")"
      ],
      "metadata": {
        "id": "aJrYoKSudTpH"
      },
      "execution_count": 33,
      "outputs": []
    },
    {
      "cell_type": "code",
      "source": [
        "text_pipeline = lambda x: vocab(tokenizer(x))"
      ],
      "metadata": {
        "id": "1KLEwszkrf-J"
      },
      "execution_count": 34,
      "outputs": []
    },
    {
      "cell_type": "code",
      "source": [
        "print(text_pipeline(\"Hello World\"))"
      ],
      "metadata": {
        "colab": {
          "base_uri": "https://localhost:8080/"
        },
        "id": "tZsPnUOArkeN",
        "outputId": "c0746494-4b40-4e65-d586-35cc0b7bba25"
      },
      "execution_count": 35,
      "outputs": [
        {
          "output_type": "stream",
          "name": "stdout",
          "text": [
            "[10746, 279]\n"
          ]
        }
      ]
    },
    {
      "cell_type": "code",
      "source": [
        "#target_pipeline = lambda x: x/10000"
      ],
      "metadata": {
        "id": "W53usMarrmrZ"
      },
      "execution_count": 36,
      "outputs": []
    },
    {
      "cell_type": "code",
      "source": [
        "train_data = list(zip(X_train, y_train))\n",
        "test_data = list(zip(X_test, y_test))"
      ],
      "metadata": {
        "id": "gl_PooQwzCgC"
      },
      "execution_count": 37,
      "outputs": []
    },
    {
      "cell_type": "code",
      "source": [
        "train_data[0]"
      ],
      "metadata": {
        "colab": {
          "base_uri": "https://localhost:8080/"
        },
        "id": "wi-GGpRYzI_j",
        "outputId": "416f95e7-ece4-44bb-9ebe-af42a5e2e582"
      },
      "execution_count": 38,
      "outputs": [
        {
          "output_type": "execute_result",
          "data": {
            "text/plain": [
              "(\"Overview\\nCarollo Engineers is an internationally recognized environmental engineering firm that specializes in the planning, design, and construction of water and wastewater facilities. We are seeking an individual to serve as a Senior Project Manager/Program Component Lead for a large, high-profile wastewater treatment program in Vancouver, BC\\nResponsibilities\\n As part of a program leadership team located in Vancouver, Canada, assumes responsibility for managing a major component of a multi-disciplinary infrastructure program with a high degree of technical and non-technical complexity under the direction of the Program Manager.  Promotes alignment within the integrated consultant and client Program and project component teams through effective and regular communications.  Works directly with client staff in a co-located setting developing strong relationships, including external teaming partners, and internal technical resources.  Monitors and manages internal and external factors related to the assigned project component that influence the Program.  Develops and implements various plans (project management plans, startup plans, and work plans), business processes, and tools to drive efficiency, emphasize accountability, bring team alignment, and promote transparency.  Reviews project scope, budget, and schedule for engineering proposals for compliance with client requirements, best practice, and/or program management policies.  Coordinates with project controls team and multiple project delivery teams to monitor and control the program/project’s scope, cost, schedule, and quality metrics and recommends adjustments as necessary to meet Program goals.  Manages component risk register and enforces Program Risk Management policies and procedures.  Develops component scope, budget, and schedule for tasks under the Program Management contract.  Manages component support functional groups such as procurement, contract management, permitting, and communications.  Monitors status of component performance and deliverables and develops monthly reports for the client.  Oversees contract administration and reporting activities.  Assists in securing resources required to deliver services specified in the contract scope with a focus on contract co mpliance.  Coordinates client’s interdisciplinary review of project deliverables.  Prepares and makes detailed presentations to the team and client.  Enforces Program quality control policy.  Organizes component assignments to develop junior staff.  Ability for full-time with on-site location in Vancouver, British Columbia \\nQualifications\\n Minimum Bachelor's degree in an Engineering discipline, Construction Management, or closely related field.  U.S. P.E. or Canada P.Eng. or the ability to obtain through reciprocity in 6 months is required.  Minimum fifteen (15) years of experience in the management and delivery of civil engineering infrastructure projects and/or large water or wastewater development projects.  Current holder of, or have no restrictions to obtain, sufficient immigration documents for travel to/from U.S. and Canada.  Valid driver's license required and a clean driving record.  Ability to work directly with and reporting to senior client executives, project managers and major stakeholders.  Ability to work in a co-located environment with a wide range of multi-disciplined client and consultant staff. \\nPreferred Qualifications\\n PMP or PgMP certification through the Project Management Institute.  Thorough working knowledge and fully capable professional in civil, water, or wastewater infrastructure design and proficient in appropriate technical analysis software tools.  Demonstrated ability to develop scope and establish engineering budget and schedule for complex infrastructure projects.  Demonstrated engineering judgment, creativity, and foresight, in anticipating and solving both routine and unusual engineering problems, determining program objectives and requirements, organizing programs and projects, and developing standards and guides for diverse engineering activities.  Experience in the use or management of project controls systems.  Excellent written and verbal communication skills and excellent organizational skills.  Demonstrated ability to manage multiple projects at various stages of development and production.  Demonstrated ability to supervise and train entry-level engineers.  Excels working with diverse team members. \\n Pay Range \\n to  annually. This is the lowest to highest salary we in good faith believe we would pay for this role at the time of this posting. We may ultimately pay more or less than the posted range, and the range may be modified in the future. An employee’s pay within the salary range will be based on several factors including, but limited to, relevant education, qualifications, certifications, experience, skills, seniority, geographic location, performance, and business or organizational needs.\\nOther Compensation And Benefits\\nCarollo is committed to providing employees with a competitive, comprehensive benefits program that provides the care employees and their families need to lead healthy, productive lives. Carollo’s benefits package includes paid time off and holidays, comprehensive health insurance coverage, pre-tax savings account options for healthcare, dependent care and commuter expenses, disability insurance and life insurance options for you and your dependents. We also offer free Caregiver Support, Travel Assistance, counseling services and discount programs. Other compensation that may be available includes: 401(k) company contribution matching, tuition reimbursement, discretionary bonuses, career advancement bonuses, professional registration bonuses, employee referral bonuses, and compensatory time for exempt employees. Flexible work arrangements may also be available. Eligibility for benefits varies based on employment status.\",\n",
              " 11.982929094215963)"
            ]
          },
          "metadata": {},
          "execution_count": 38
        }
      ]
    },
    {
      "cell_type": "markdown",
      "source": [
        "## Create Dataloaders"
      ],
      "metadata": {
        "id": "ECJUgt98zLXK"
      }
    },
    {
      "cell_type": "code",
      "source": [
        "padding_index = vocab[\"<pad>\"]\n",
        "BATCH_SIZE = 32\n",
        "\n",
        "def collate_with_padding(data):\n",
        "  text_list, result_list = [], []\n",
        "  for text, result in data:\n",
        "    #result_list.append(target_pipeline(result))\n",
        "    result_list.append(result)\n",
        "    text = torch.tensor(text_pipeline(text), dtype=torch.int64)\n",
        "    text_list.append(text)\n",
        "  text_list = pad_sequence(text_list, batch_first=True, padding_value=padding_index)\n",
        "  result_list = torch.tensor(result_list, dtype=torch.float32, device=device)\n",
        "\n",
        "  return text_list, result_list"
      ],
      "metadata": {
        "id": "wr0hPrWR39EE"
      },
      "execution_count": 39,
      "outputs": []
    },
    {
      "cell_type": "code",
      "source": [
        "train_dataloader = DataLoader(\n",
        "    train_data,\n",
        "    collate_fn = collate_with_padding,\n",
        "    batch_size = BATCH_SIZE,\n",
        "    drop_last=True\n",
        ")\n",
        "test_dataloader = DataLoader(\n",
        "    test_data,\n",
        "    collate_fn = collate_with_padding,\n",
        "    batch_size = BATCH_SIZE,\n",
        "    drop_last=True\n",
        ")"
      ],
      "metadata": {
        "id": "CsD_yPc_4TLr"
      },
      "execution_count": 40,
      "outputs": []
    },
    {
      "cell_type": "markdown",
      "source": [
        "## Model"
      ],
      "metadata": {
        "id": "XiYBSD114j-p"
      }
    },
    {
      "cell_type": "code",
      "source": [
        "class RNNModel(nn.Module):\n",
        "  def __init__(self, input_dim, embedding_dim, hidden_dim,num_layers=2):\n",
        "    super().__init__()\n",
        "    self.hidden_dim = hidden_dim\n",
        "    self.num_layers = num_layers\n",
        "    self.embedding = nn.Embedding(input_dim, embedding_dim)\n",
        "    self.rnn = nn.LSTM(embedding_dim, hidden_dim,num_layers=num_layers, dropout=0.5)\n",
        "    self.fc = nn.Linear(hidden_dim*num_layers, 1)\n",
        "    self.init_weights()\n",
        "\n",
        "  def init_weights(self):\n",
        "    self.embedding.weight.data.uniform_(-0.5, 0.5)\n",
        "    self.fc.weight.data.uniform_(-0.5, 0.5)\n",
        "\n",
        "  def forward(self, x):\n",
        "    x = x.permute(1,0)\n",
        "    emb = self.embedding(x)\n",
        "    # output will not be used because we have a many-to-one rnn\n",
        "    output, (hidden, cell) = self.rnn(emb)\n",
        "    hidden.squeeze_(0)\n",
        "    hidden = hidden.transpose(0,1)\n",
        "    hidden = hidden.reshape(-1, self.hidden_dim*self.num_layers)\n",
        "    out = self.fc(hidden)\n",
        "    return out"
      ],
      "metadata": {
        "id": "6asHezjg4qHn"
      },
      "execution_count": 41,
      "outputs": []
    },
    {
      "cell_type": "code",
      "source": [
        "def train(model, dataloader, loss_fn, optimizer):\n",
        "  model.train()\n",
        "  model.to(device)\n",
        "  train_loss = 0\n",
        "  train_r2 = 0\n",
        "  for text, label in dataloader:\n",
        "    optimizer.zero_grad()\n",
        "    label, text = label.to(device), text.to(device)\n",
        "    y_pred = model(text)\n",
        "    loss = loss_fn(y_pred.squeeze(), label.squeeze())\n",
        "    train_loss += loss\n",
        "    r2 = r2_score(y_pred.squeeze(), label.squeeze())\n",
        "    train_r2 += r2\n",
        "    loss.backward()\n",
        "\n",
        "    optimizer.step()\n",
        "\n",
        "  train_loss /= len(dataloader)\n",
        "  train_r2 /= len(dataloader)\n",
        "  print(f'Train Loss: {train_loss}, r-squared score: {train_r2}')"
      ],
      "metadata": {
        "id": "uyybPtJN5mYS"
      },
      "execution_count": 42,
      "outputs": []
    },
    {
      "cell_type": "code",
      "source": [
        "def eval(model, dataloader, loss_fn):\n",
        "  model.eval()\n",
        "\n",
        "  eval_loss = 0\n",
        "  eval_r2 = 0\n",
        "  eval_mse = 0\n",
        "  with torch.inference_mode():\n",
        "    for text, label in dataloader:\n",
        "      label, text = label.to(device), text.to(device)\n",
        "      y_pred = model(text)\n",
        "      loss = loss_fn(y_pred.squeeze(), label.squeeze())\n",
        "      eval_loss += loss\n",
        "      r2 = r2_score(y_pred.squeeze(), label.squeeze())\n",
        "      eval_r2 += r2\n",
        "\n",
        "    eval_loss /= len(dataloader)\n",
        "    eval_r2 /= len(dataloader)\n",
        "    print(f'Test Loss: {eval_loss}, r-squared score: {eval_r2}')"
      ],
      "metadata": {
        "id": "ixx9BgrM7xNE"
      },
      "execution_count": 43,
      "outputs": []
    },
    {
      "cell_type": "code",
      "source": [
        "EMBED_SIZE = 64\n",
        "HIDDEN_DIM = 32\n",
        "NUM_LAYERS = 2\n",
        "\n",
        "model = RNNModel(vocab_size, EMBED_SIZE, HIDDEN_DIM, num_layers=NUM_LAYERS)"
      ],
      "metadata": {
        "id": "8Tns-zkG5UE6"
      },
      "execution_count": 50,
      "outputs": []
    },
    {
      "cell_type": "code",
      "source": [
        "epochs = 50\n",
        "optimizer = torch.optim.AdamW(model.parameters(), lr=0.005, weight_decay=0.05)\n",
        "loss_fn = torch.nn.L1Loss()"
      ],
      "metadata": {
        "id": "k5wKxBGR76Mv"
      },
      "execution_count": 51,
      "outputs": []
    },
    {
      "cell_type": "code",
      "source": [
        "for epoch in range(epochs):\n",
        "  print(f'Epoch: {epoch}\\n------------------')\n",
        "  train(model, train_dataloader, loss_fn, optimizer)\n",
        "  eval(model, test_dataloader, loss_fn)"
      ],
      "metadata": {
        "colab": {
          "base_uri": "https://localhost:8080/"
        },
        "id": "DhVyxkTQ8PUZ",
        "outputId": "0f8d1675-abf0-4402-a636-ed4641268327"
      },
      "execution_count": 52,
      "outputs": [
        {
          "output_type": "stream",
          "name": "stdout",
          "text": [
            "Epoch: 0\n",
            "------------------\n",
            "Train Loss: 0.6735295653343201, r-squared score: -6.437743186950684\n",
            "Test Loss: 0.4675719738006592, r-squared score: -0.06115642189979553\n",
            "Epoch: 1\n",
            "------------------\n",
            "Train Loss: 0.47555384039878845, r-squared score: -0.1165255531668663\n",
            "Test Loss: 0.46391209959983826, r-squared score: -0.036724746227264404\n",
            "Epoch: 2\n",
            "------------------\n",
            "Train Loss: 0.4737640619277954, r-squared score: -0.11272993683815002\n",
            "Test Loss: 0.4630843997001648, r-squared score: -0.03412940353155136\n",
            "Epoch: 3\n",
            "------------------\n",
            "Train Loss: 0.47004446387290955, r-squared score: -0.09022741764783859\n",
            "Test Loss: 0.46171116828918457, r-squared score: -0.030935868620872498\n",
            "Epoch: 4\n",
            "------------------\n",
            "Train Loss: 0.4686264395713806, r-squared score: -0.08469575643539429\n",
            "Test Loss: 0.4632470905780792, r-squared score: -0.04147985205054283\n",
            "Epoch: 5\n",
            "------------------\n",
            "Train Loss: 0.4670897424221039, r-squared score: -0.07930130511522293\n",
            "Test Loss: 0.4625222086906433, r-squared score: -0.035658858716487885\n",
            "Epoch: 6\n",
            "------------------\n",
            "Train Loss: 0.46484315395355225, r-squared score: -0.0705358013510704\n",
            "Test Loss: 0.4639064371585846, r-squared score: -0.04269958660006523\n",
            "Epoch: 7\n",
            "------------------\n",
            "Train Loss: 0.4651663601398468, r-squared score: -0.07208501547574997\n",
            "Test Loss: 0.4636005461215973, r-squared score: -0.045216478407382965\n",
            "Epoch: 8\n",
            "------------------\n",
            "Train Loss: 0.4651578664779663, r-squared score: -0.07367875427007675\n",
            "Test Loss: 0.461547315120697, r-squared score: -0.032125577330589294\n",
            "Epoch: 9\n",
            "------------------\n",
            "Train Loss: 0.4626331031322479, r-squared score: -0.0643949881196022\n",
            "Test Loss: 0.4612064063549042, r-squared score: -0.03201643377542496\n",
            "Epoch: 10\n",
            "------------------\n",
            "Train Loss: 0.46374648809432983, r-squared score: -0.06795874238014221\n",
            "Test Loss: 0.4627832770347595, r-squared score: -0.0387941338121891\n",
            "Epoch: 11\n",
            "------------------\n",
            "Train Loss: 0.4646189212799072, r-squared score: -0.07344752550125122\n",
            "Test Loss: 0.46251508593559265, r-squared score: -0.0384785458445549\n",
            "Epoch: 12\n",
            "------------------\n",
            "Train Loss: 0.4442715048789978, r-squared score: -0.00014493112394120544\n",
            "Test Loss: 0.4198031723499298, r-squared score: 0.09236463904380798\n",
            "Epoch: 13\n",
            "------------------\n",
            "Train Loss: 0.359987735748291, r-squared score: 0.2852552533149719\n",
            "Test Loss: 0.3432360291481018, r-squared score: 0.3096916079521179\n",
            "Epoch: 14\n",
            "------------------\n",
            "Train Loss: 0.33037909865379333, r-squared score: 0.38875535130500793\n",
            "Test Loss: 0.3460167646408081, r-squared score: 0.28233951330184937\n",
            "Epoch: 15\n",
            "------------------\n",
            "Train Loss: 0.3147396445274353, r-squared score: 0.4427857995033264\n",
            "Test Loss: 0.33139410614967346, r-squared score: 0.33871981501579285\n",
            "Epoch: 16\n",
            "------------------\n",
            "Train Loss: 0.30028578639030457, r-squared score: 0.48716455698013306\n",
            "Test Loss: 0.30907174944877625, r-squared score: 0.4364981949329376\n",
            "Epoch: 17\n",
            "------------------\n",
            "Train Loss: 0.29275885224342346, r-squared score: 0.5071414113044739\n",
            "Test Loss: 0.30331721901893616, r-squared score: 0.44660162925720215\n",
            "Epoch: 18\n",
            "------------------\n",
            "Train Loss: 0.2846199572086334, r-squared score: 0.5316506624221802\n",
            "Test Loss: 0.31394726037979126, r-squared score: 0.41822370886802673\n",
            "Epoch: 19\n",
            "------------------\n",
            "Train Loss: 0.31193140149116516, r-squared score: -0.5689215064048767\n",
            "Test Loss: 0.30010151863098145, r-squared score: 0.4551703631877899\n",
            "Epoch: 20\n",
            "------------------\n",
            "Train Loss: 0.27539390325546265, r-squared score: 0.5606696605682373\n",
            "Test Loss: 0.34891533851623535, r-squared score: 0.28792062401771545\n",
            "Epoch: 21\n",
            "------------------\n",
            "Train Loss: 0.26998957991600037, r-squared score: 0.5791008472442627\n",
            "Test Loss: 0.32382187247276306, r-squared score: 0.37897926568984985\n",
            "Epoch: 22\n",
            "------------------\n",
            "Train Loss: 0.2645702660083771, r-squared score: 0.5946093201637268\n",
            "Test Loss: 0.31055939197540283, r-squared score: 0.42505067586898804\n",
            "Epoch: 23\n",
            "------------------\n",
            "Train Loss: 0.2557220757007599, r-squared score: 0.6154709458351135\n",
            "Test Loss: 0.3068321943283081, r-squared score: 0.4317837059497833\n",
            "Epoch: 24\n",
            "------------------\n",
            "Train Loss: 0.25655558705329895, r-squared score: 0.613135814666748\n",
            "Test Loss: 0.3180834949016571, r-squared score: 0.40242719650268555\n",
            "Epoch: 25\n",
            "------------------\n",
            "Train Loss: 0.24200986325740814, r-squared score: 0.6462897658348083\n",
            "Test Loss: 0.29193413257598877, r-squared score: 0.5074184536933899\n",
            "Epoch: 26\n",
            "------------------\n",
            "Train Loss: 0.22437390685081482, r-squared score: 0.6906973123550415\n",
            "Test Loss: 0.2962266802787781, r-squared score: 0.4704211950302124\n",
            "Epoch: 27\n",
            "------------------\n",
            "Train Loss: 0.20952850580215454, r-squared score: 0.7302291989326477\n",
            "Test Loss: 0.26239514350891113, r-squared score: 0.5682004690170288\n",
            "Epoch: 28\n",
            "------------------\n",
            "Train Loss: 0.21218320727348328, r-squared score: 0.7260347008705139\n",
            "Test Loss: 0.25133028626441956, r-squared score: 0.5894777774810791\n",
            "Epoch: 29\n",
            "------------------\n",
            "Train Loss: 0.2240995615720749, r-squared score: 0.6199101805686951\n",
            "Test Loss: 0.2810221016407013, r-squared score: 0.515527606010437\n",
            "Epoch: 30\n",
            "------------------\n",
            "Train Loss: 0.18676979839801788, r-squared score: 0.7827300429344177\n",
            "Test Loss: 0.2633083462715149, r-squared score: 0.5637544989585876\n",
            "Epoch: 31\n",
            "------------------\n",
            "Train Loss: 0.1938329041004181, r-squared score: 0.7724212408065796\n",
            "Test Loss: 0.34597715735435486, r-squared score: 0.3205359876155853\n",
            "Epoch: 32\n",
            "------------------\n",
            "Train Loss: 0.20478880405426025, r-squared score: 0.7571714520454407\n",
            "Test Loss: 0.3395013213157654, r-squared score: 0.3567984998226166\n",
            "Epoch: 33\n",
            "------------------\n",
            "Train Loss: 0.1959730088710785, r-squared score: 0.7767494320869446\n",
            "Test Loss: 0.2759895324707031, r-squared score: 0.537424623966217\n",
            "Epoch: 34\n",
            "------------------\n",
            "Train Loss: 0.18005813658237457, r-squared score: 0.8050445914268494\n",
            "Test Loss: 0.260394424200058, r-squared score: 0.5718979239463806\n",
            "Epoch: 35\n",
            "------------------\n",
            "Train Loss: 0.18938656151294708, r-squared score: 0.7878524661064148\n",
            "Test Loss: 0.24068021774291992, r-squared score: 0.6216290593147278\n",
            "Epoch: 36\n",
            "------------------\n",
            "Train Loss: 0.18517930805683136, r-squared score: 0.7967742085456848\n",
            "Test Loss: 0.23589344322681427, r-squared score: 0.631151020526886\n",
            "Epoch: 37\n",
            "------------------\n",
            "Train Loss: 0.20839758217334747, r-squared score: 0.760442852973938\n",
            "Test Loss: 0.23506851494312286, r-squared score: 0.6321428418159485\n",
            "Epoch: 38\n",
            "------------------\n",
            "Train Loss: 0.2170494794845581, r-squared score: 0.7448134422302246\n",
            "Test Loss: 0.24965645372867584, r-squared score: 0.6007283926010132\n",
            "Epoch: 39\n",
            "------------------\n",
            "Train Loss: 0.20427611470222473, r-squared score: 0.761993944644928\n",
            "Test Loss: 0.2404765784740448, r-squared score: 0.6215847730636597\n",
            "Epoch: 40\n",
            "------------------\n",
            "Train Loss: 0.20513495802879333, r-squared score: 0.7637582421302795\n",
            "Test Loss: 0.34489038586616516, r-squared score: 0.3417625427246094\n",
            "Epoch: 41\n",
            "------------------\n",
            "Train Loss: 0.1819828599691391, r-squared score: 0.8083558678627014\n",
            "Test Loss: 0.35133180022239685, r-squared score: 0.3061342239379883\n",
            "Epoch: 42\n",
            "------------------\n",
            "Train Loss: 0.1802545189857483, r-squared score: 0.8118704557418823\n",
            "Test Loss: 0.2504813075065613, r-squared score: 0.5943703651428223\n",
            "Epoch: 43\n",
            "------------------\n",
            "Train Loss: 0.18550264835357666, r-squared score: 0.804911732673645\n",
            "Test Loss: 0.2381020039319992, r-squared score: 0.6206273436546326\n",
            "Epoch: 44\n",
            "------------------\n",
            "Train Loss: 0.18772131204605103, r-squared score: 0.8017798662185669\n",
            "Test Loss: 0.2726101279258728, r-squared score: 0.5482503175735474\n",
            "Epoch: 45\n",
            "------------------\n",
            "Train Loss: 0.19607658684253693, r-squared score: 0.7867418527603149\n",
            "Test Loss: 0.2410815954208374, r-squared score: 0.6178478002548218\n",
            "Epoch: 46\n",
            "------------------\n",
            "Train Loss: 0.194998100399971, r-squared score: 0.7907846570014954\n",
            "Test Loss: 0.2726025879383087, r-squared score: 0.5349567532539368\n",
            "Epoch: 47\n",
            "------------------\n",
            "Train Loss: 0.1845426708459854, r-squared score: 0.8063570261001587\n",
            "Test Loss: 0.2328338772058487, r-squared score: 0.6372168064117432\n",
            "Epoch: 48\n",
            "------------------\n",
            "Train Loss: 0.1820523887872696, r-squared score: 0.8135283589363098\n",
            "Test Loss: 0.2587091624736786, r-squared score: 0.5762724876403809\n",
            "Epoch: 49\n",
            "------------------\n",
            "Train Loss: 0.1810900866985321, r-squared score: 0.8121761083602905\n",
            "Test Loss: 0.2558399438858032, r-squared score: 0.5984253287315369\n"
          ]
        }
      ]
    },
    {
      "cell_type": "code",
      "source": [
        "def predict(text):\n",
        "  with torch.no_grad():\n",
        "    text = torch.tensor(text_pipeline(text), dtype=torch.int64, device=device)\n",
        "    text = torch.unsqueeze(text, 0)\n",
        "    result =  model(text).squeeze()\n",
        "    result = round(np.exp(result.item()), 2)\n",
        "    return result\n"
      ],
      "metadata": {
        "id": "s0vnqT1X8XYx"
      },
      "execution_count": 53,
      "outputs": []
    },
    {
      "cell_type": "code",
      "source": [
        "random_index = random.randint(0, len(df))\n",
        "\n",
        "text = df.iloc[random_index][\"description\"]\n",
        "#print(text)\n",
        "prediction = predict(text)\n",
        "actual_salary = df.iloc[random_index][\"salary\"]\n",
        "\n",
        "print(f\"prediction: {prediction}, actual value: {actual_salary}\")"
      ],
      "metadata": {
        "colab": {
          "base_uri": "https://localhost:8080/"
        },
        "id": "X6PCHO3eZfHH",
        "outputId": "16317268-3d19-44ea-fc4f-1058b93b3fd0"
      },
      "execution_count": 54,
      "outputs": [
        {
          "output_type": "stream",
          "name": "stdout",
          "text": [
            "prediction: 63881.43, actual value: 145600.0\n"
          ]
        }
      ]
    },
    {
      "cell_type": "code",
      "source": [
        "torch.save(model.state_dict(), \"drive/MyDrive/Job_description_data/model_4.pt\")"
      ],
      "metadata": {
        "id": "DR1bYnXpaaLb"
      },
      "execution_count": 55,
      "outputs": []
    },
    {
      "cell_type": "code",
      "source": [
        "import torch\n",
        "import torch.nn as nn\n",
        "import torchtext\n",
        "from torchtext.data.utils import get_tokenizer\n",
        "\n",
        "tokenizer = get_tokenizer(\"basic_english\")\n",
        "\n",
        "\n",
        "class RNNModel(nn.Module):\n",
        "    def __init__(self, input_dim=20000, embedding_dim=64, hidden_dim=32, num_layers=2):\n",
        "        super().__init__()\n",
        "        self.hidden_dim = hidden_dim\n",
        "        self.num_layers = num_layers\n",
        "        self.embedding = nn.Embedding(input_dim, embedding_dim)\n",
        "        self.rnn = nn.LSTM(\n",
        "            embedding_dim, hidden_dim, num_layers=num_layers, dropout=0.5\n",
        "        )\n",
        "        self.fc = nn.Linear(hidden_dim * num_layers, 1)\n",
        "        self.init_weights()\n",
        "\n",
        "    def init_weights(self):\n",
        "        self.embedding.weight.data.uniform_(-0.5, 0.5)\n",
        "        self.fc.weight.data.uniform_(-0.5, 0.5)\n",
        "\n",
        "    def forward(self, x):\n",
        "        x = x.permute(1, 0)\n",
        "        emb = self.embedding(x)\n",
        "        # output will not be used because we have a many-to-one rnn\n",
        "        output, (hidden, cell) = self.rnn(emb)\n",
        "        hidden.squeeze_(0)\n",
        "        hidden = hidden.transpose(0, 1)\n",
        "        hidden = hidden.reshape(-1, self.hidden_dim * self.num_layers)\n",
        "        out = self.fc(hidden)\n",
        "        return out\n",
        "\n",
        "\n",
        "model = RNNModel()\n",
        "model.load_state_dict(torch.load(\"drive/MyDrive/Job_description_data/model_4.pt\", map_location=torch.device(\"cpu\")))\n",
        "\n",
        "\n",
        "def predict(text):\n",
        "    with torch.no_grad():\n",
        "        text = torch.tensor(text_pipeline(text), dtype=torch.int64)\n",
        "        text = torch.unsqueeze(text, 0)\n",
        "        result = model(text).squeeze()\n",
        "        result = (round(result.item(), 2)) * 10000\n",
        "        return result\n",
        "\n"
      ],
      "metadata": {
        "id": "qRW6Aa4QRjTF"
      },
      "execution_count": 56,
      "outputs": []
    },
    {
      "cell_type": "code",
      "source": [
        "random_index = random.randint(0, len(df))\n",
        "\n",
        "text = df.iloc[random_index][\"description\"]\n",
        "print(text)\n",
        "prediction = predict(text)\n",
        "actual_salary = df.iloc[random_index][\"salary\"]\n",
        "\n",
        "print(f\"prediction: {prediction}, actual value: {actual_salary}\")"
      ],
      "metadata": {
        "colab": {
          "base_uri": "https://localhost:8080/"
        },
        "id": "m138No04SxXU",
        "outputId": "82c02467-71a2-4731-ac65-4593e290f319"
      },
      "execution_count": 57,
      "outputs": [
        {
          "output_type": "stream",
          "name": "stdout",
          "text": [
            "Do you want to contribute your financial skills to support the mission of one of the best medical schools in the world? The Stanford University School of Medicine, will give you the opportunity to grow your skills, lead key financial processes and engage in continuous improvement.\n",
            "\n",
            "Duties Include\n",
            "\n",
            "We are searching for a proactive and enthusiastic Financial Manager to join our team. The ideal candidate will have strong analytical skills, has experience delivering complex financial analysis, is detail oriented, and able to partner effectively with a variety of department stakeholders. This position will report to the Director, Associate Controller of the School of Medicine. The position will manage a variety of adhoc and strategic projects, such as financial metrics development, school wide financial analysis, and reporting enhancements. Responsibilities will include, but are not limited to the following:\n",
            "Oversee the delivery of quarterly financial reports and variance analysis on trends affecting the School’s financial positionDevelop department level reporting of clinical performance, including variance analysis. Liaise with subject matter experts at hospitals and the School of Medicine to help with data reconciliation in preparation for planning meetings and presentations. Lead yearly reserve reporting analysis; create and update metrics to reflect department and school level financial position, such as months cash on hand, and other liquidity or financial performance metrics.Along with other SoM finance leaders, contribute to the development and advancement of the Finance and Accounting Forum; gauge the audience interest on relevant topics or areas in need of training.Partner with other departments to conduct various fundraising related analysis at department level.Support school wide policies and proposals impacting departments; examples include, but not limited to endowment investments, accruals reporting, fees collections.Manage the work of other employees, make hiring decisions, provide coaching, training and mentoring, manage performance, determine staffing needs, develop and ensure succession planning within area of responsibility.Establish operational objectives and assignments, plan, direct and monitor all budgets for areas of responsibility, manage business operation and administration of several functional areas.Identify and resolve unique problems of substantial significance that affect the overall functional area, beyond the immediate unit.Manage organization's financial activities and structure; develop system and procedure requirements to support the financial reporting for the organization.Contribute to designing, developing and delivering complex policies and procedures with both short and long term impact. Collaborate with other colleagues on school/ unit projects; design and execute an effective system of internal controls for areas of responsibility; establish operational objectives to support the university's stewardship of resources.Engage in continuous critical analysis of existing systems and processes; identify need for new systems, and develop and present proposals.Lead complex, high-visibility process redesign and innovation projects; develop, implement, and participate in major initiatives.Represent the units/school within the functional units or school and to external constituencies. - Other duties may also be assigned\n",
            "\n",
            "Education & Experience (required)\n",
            "\n",
            "Master's degree and six years relevant experience or combination of education and relevant experience.\n",
            "\n",
            "Knowledge, Skills And Abilities (required)\n",
            "User knowledge of Microsoft Office SuiteAdvanced knowledge of Oracle or other business financial systemsAdvanced understanding of financial principles.Advanced oral and written communication skills Ability to clearly and effectively present information to internal and external audiences, client groups and all levels of management.Strong analytical skills to review and analyze complex financial information.Strong leadership and management skills with previous experience managing people, delegating workload and providing direction/corrections as necessary.Knowledge of property management requirements related to Stanford or non-Stanford title of equipment and fabrications.Demonstrated competency in project management of a high volume of work, some of which is cyclical. If managing sponsored projects, ability to manage post and pre award administration for sponsored projects within his/her unit. Knowledge and fluency of governmental regulations and Cardinal Curriculum level I and II. Knowledge of procurement needs, including sole-sourcing, cost analyses, vendor requirements, and small business reporting. Experience working successfully with PIs, their administrative staff, the office of sponsored research and external sponsors. Demonstrated success in performing meticulous, high quality and compliant work. Ability to interpret complex research and fiscal policies, assimilate information from a wide range of resources and act like a mentor and resource to others.\n",
            "\n",
            "PHYSICAL REQUIREMENTS*:\n",
            "Constantly sitting. Frequently perform desk-based computer tasks, use telephone, writing by hand, sort/file paperwork.Occasionally stand/walk, lift/carry objects weighing 11-20 pounds.Rarely reach/work above shoulder. - Consistent with its obligations under the law, the University will provide reasonable accommodation to any employee with a disability who requires accommodation to perform the essential functions of his or her job.\n",
            "\n",
            "Working Conditions\n",
            "\n",
            "Routine extended working hours during peak cycles; travel to school/unit sites across university.\n",
            "\n",
            "WORK STANDARDS\n",
            "Interpersonal Skills: Demonstrates the ability to work well with Stanford colleagues and clients and with external organizations.Promote Culture of Safety: Demonstrates commitment to personal responsibility and value for safety; communicates safety concerns; uses and promotes safe behaviors based on training and lessons learned.Subject to and expected to comply with all applicable University policies and procedures, including but not limited to the personnel policies and other policies found in the University's Administrative Guide, http://adminguide.stanford.edu.\n",
            "\n",
            "This role is open to candidates anywhere in the United States. Stanford University has five Regional Pay Structures. The compensation for this position will be based on the location of the successful candidate. The expected pay range for this position is  to  per annum.\n",
            "\n",
            "Stanford University provides pay ranges representing its good faith estimate of what the university reasonably expects to pay for a position. The pay offered to a selected candidate will be determined based on factors such as (but not limited to) the scope and responsibilities of the position, the qualifications of the selected candidate, departmental budget availability, internal equity, geographic location, and external market pay for comparable jobs.\n",
            "\n",
            "At Stanford University, base pay represents only one aspect of the comprehensive rewards package. The Cardinal at Work website (https://cardinalatwork.stanford.edu/benefits-rewards) provides detailed information on Stanford’s extensive range of benefits and rewards offered to employees. Specifics about the rewards package for this position may be discussed during the hiring process.\n",
            "prediction: 115100.0, actual value: 167500.0\n"
          ]
        }
      ]
    },
    {
      "cell_type": "code",
      "source": [
        "predict(\"\"\"Overview:We are seeking an accomplished professional services leader to build lead and manage our internal consulting practice This role offers a unique opportunity to shape and drive performance optimization across our 15 company-owned automotive dealerships If you have the passion and the drive to pioneer a strategic high-impact consulting initiative from the ground up we'd love to hear from you\n",
        "Key Responsibilities:Design develop and lead our internal consulting practice focused on automotive retail performance optimizationLeverage the expertise of our existing performance managers capitalizing on their deep automotive retail knowledgeDesign and implement a comprehensive system of processes – including scoping methodology deliverables service levels etcCreate analytical and prescriptive guidance models that will provide data-driven insightsDevelop a robust team process and system to equip our dealership operators with actionable guidancePartner closely with dealership operators to implement and monitor effectiveness of strategiesContinuously adapt and iterate consulting methodologies based on impact results and modern consulting designs and methods\n",
        "Qualifications:Minimum ten years of consulting experienceProven track record in building and leading successful consulting practicesA forward-thinker with a strategic mindset and a hands-on approachExcellent leadership communication and project management skillsPreference for significant experience with a leading professional services firmAutomotive sector experience preferred but not required\n",
        "What We Offer:The chance to shape a vital internal initiative from its inceptionThe opportunity to work with and develop a dedicated and knowledgeable team of performance managersCompetitive compensation and benefits packageSupportive and collaborative work environmentExecutive growth opportunities\n",
        "Why Join Us?:\n",
        "This is more than just a leadership role It's an opportunity to be at the forefront of reshaping automotive retail performance for our dealerships Here you will have the platform and the resources to rebuild our internal practice ensuring our dealerships are not only meeting but setting industry standards\n",
        "If you are a visionary with a genuine drive to build and lead a strategic high-impact internal consulting practice apply today\"\"\")"
      ],
      "metadata": {
        "colab": {
          "base_uri": "https://localhost:8080/"
        },
        "id": "fIKkV6_mS5A0",
        "outputId": "a0997a31-b6ad-4912-8125-f5215c7177f0"
      },
      "execution_count": 58,
      "outputs": [
        {
          "output_type": "execute_result",
          "data": {
            "text/plain": [
              "112200.0"
            ]
          },
          "metadata": {},
          "execution_count": 58
        }
      ]
    },
    {
      "cell_type": "code",
      "source": [
        "try:\n",
        "  import gradio as gr\n",
        "except:\n",
        "  import locale\n",
        "  locale.getpreferredencoding = lambda: \"UTF-8\"\n",
        "  !pip install gradio\n",
        "  import gradio as gr\n"
      ],
      "metadata": {
        "id": "gTxOvzhCTjGM",
        "colab": {
          "base_uri": "https://localhost:8080/"
        },
        "outputId": "23d58718-aa49-48e2-e19e-6f09353832d0"
      },
      "execution_count": 82,
      "outputs": [
        {
          "output_type": "stream",
          "name": "stdout",
          "text": [
            "Collecting gradio\n",
            "  Downloading gradio-4.31.5-py3-none-any.whl (12.3 MB)\n",
            "\u001b[2K     \u001b[90m━━━━━━━━━━━━━━━━━━━━━━━━━━━━━━━━━━━━━━━━\u001b[0m \u001b[32m12.3/12.3 MB\u001b[0m \u001b[31m41.9 MB/s\u001b[0m eta \u001b[36m0:00:00\u001b[0m\n",
            "\u001b[?25hCollecting aiofiles<24.0,>=22.0 (from gradio)\n",
            "  Downloading aiofiles-23.2.1-py3-none-any.whl (15 kB)\n",
            "Requirement already satisfied: altair<6.0,>=4.2.0 in /usr/local/lib/python3.10/dist-packages (from gradio) (4.2.2)\n",
            "Collecting fastapi (from gradio)\n",
            "  Downloading fastapi-0.111.0-py3-none-any.whl (91 kB)\n",
            "\u001b[2K     \u001b[90m━━━━━━━━━━━━━━━━━━━━━━━━━━━━━━━━━━━━━━━━\u001b[0m \u001b[32m92.0/92.0 kB\u001b[0m \u001b[31m13.6 MB/s\u001b[0m eta \u001b[36m0:00:00\u001b[0m\n",
            "\u001b[?25hCollecting ffmpy (from gradio)\n",
            "  Downloading ffmpy-0.3.2.tar.gz (5.5 kB)\n",
            "  Preparing metadata (setup.py) ... \u001b[?25l\u001b[?25hdone\n",
            "Collecting gradio-client==0.16.4 (from gradio)\n",
            "  Downloading gradio_client-0.16.4-py3-none-any.whl (315 kB)\n",
            "\u001b[2K     \u001b[90m━━━━━━━━━━━━━━━━━━━━━━━━━━━━━━━━━━━━━━━━\u001b[0m \u001b[32m315.9/315.9 kB\u001b[0m \u001b[31m34.2 MB/s\u001b[0m eta \u001b[36m0:00:00\u001b[0m\n",
            "\u001b[?25hCollecting httpx>=0.24.1 (from gradio)\n",
            "  Downloading httpx-0.27.0-py3-none-any.whl (75 kB)\n",
            "\u001b[2K     \u001b[90m━━━━━━━━━━━━━━━━━━━━━━━━━━━━━━━━━━━━━━━━\u001b[0m \u001b[32m75.6/75.6 kB\u001b[0m \u001b[31m10.2 MB/s\u001b[0m eta \u001b[36m0:00:00\u001b[0m\n",
            "\u001b[?25hRequirement already satisfied: huggingface-hub>=0.19.3 in /usr/local/lib/python3.10/dist-packages (from gradio) (0.23.1)\n",
            "Requirement already satisfied: importlib-resources<7.0,>=1.3 in /usr/local/lib/python3.10/dist-packages (from gradio) (6.4.0)\n",
            "Requirement already satisfied: jinja2<4.0 in /usr/local/lib/python3.10/dist-packages (from gradio) (3.1.4)\n",
            "Requirement already satisfied: markupsafe~=2.0 in /usr/local/lib/python3.10/dist-packages (from gradio) (2.1.5)\n",
            "Requirement already satisfied: matplotlib~=3.0 in /usr/local/lib/python3.10/dist-packages (from gradio) (3.7.1)\n",
            "Requirement already satisfied: numpy~=1.0 in /usr/local/lib/python3.10/dist-packages (from gradio) (1.25.2)\n",
            "Collecting orjson~=3.0 (from gradio)\n",
            "  Downloading orjson-3.10.3-cp310-cp310-manylinux_2_17_x86_64.manylinux2014_x86_64.whl (142 kB)\n",
            "\u001b[2K     \u001b[90m━━━━━━━━━━━━━━━━━━━━━━━━━━━━━━━━━━━━━━━━\u001b[0m \u001b[32m142.5/142.5 kB\u001b[0m \u001b[31m23.0 MB/s\u001b[0m eta \u001b[36m0:00:00\u001b[0m\n",
            "\u001b[?25hRequirement already satisfied: packaging in /usr/local/lib/python3.10/dist-packages (from gradio) (24.0)\n",
            "Requirement already satisfied: pandas<3.0,>=1.0 in /usr/local/lib/python3.10/dist-packages (from gradio) (2.0.3)\n",
            "Requirement already satisfied: pillow<11.0,>=8.0 in /usr/local/lib/python3.10/dist-packages (from gradio) (9.4.0)\n",
            "Requirement already satisfied: pydantic>=2.0 in /usr/local/lib/python3.10/dist-packages (from gradio) (2.7.1)\n",
            "Collecting pydub (from gradio)\n",
            "  Downloading pydub-0.25.1-py2.py3-none-any.whl (32 kB)\n",
            "Collecting python-multipart>=0.0.9 (from gradio)\n",
            "  Downloading python_multipart-0.0.9-py3-none-any.whl (22 kB)\n",
            "Requirement already satisfied: pyyaml<7.0,>=5.0 in /usr/local/lib/python3.10/dist-packages (from gradio) (6.0.1)\n",
            "Collecting ruff>=0.2.2 (from gradio)\n",
            "  Downloading ruff-0.4.5-py3-none-manylinux_2_17_x86_64.manylinux2014_x86_64.whl (8.8 MB)\n",
            "\u001b[2K     \u001b[90m━━━━━━━━━━━━━━━━━━━━━━━━━━━━━━━━━━━━━━━━\u001b[0m \u001b[32m8.8/8.8 MB\u001b[0m \u001b[31m87.4 MB/s\u001b[0m eta \u001b[36m0:00:00\u001b[0m\n",
            "\u001b[?25hCollecting semantic-version~=2.0 (from gradio)\n",
            "  Downloading semantic_version-2.10.0-py2.py3-none-any.whl (15 kB)\n",
            "Collecting tomlkit==0.12.0 (from gradio)\n",
            "  Downloading tomlkit-0.12.0-py3-none-any.whl (37 kB)\n",
            "Collecting typer<1.0,>=0.12 (from gradio)\n",
            "  Downloading typer-0.12.3-py3-none-any.whl (47 kB)\n",
            "\u001b[2K     \u001b[90m━━━━━━━━━━━━━━━━━━━━━━━━━━━━━━━━━━━━━━━━\u001b[0m \u001b[32m47.2/47.2 kB\u001b[0m \u001b[31m7.6 MB/s\u001b[0m eta \u001b[36m0:00:00\u001b[0m\n",
            "\u001b[?25hRequirement already satisfied: typing-extensions~=4.0 in /usr/local/lib/python3.10/dist-packages (from gradio) (4.11.0)\n",
            "Requirement already satisfied: urllib3~=2.0 in /usr/local/lib/python3.10/dist-packages (from gradio) (2.0.7)\n",
            "Collecting uvicorn>=0.14.0 (from gradio)\n",
            "  Downloading uvicorn-0.29.0-py3-none-any.whl (60 kB)\n",
            "\u001b[2K     \u001b[90m━━━━━━━━━━━━━━━━━━━━━━━━━━━━━━━━━━━━━━━━\u001b[0m \u001b[32m60.8/60.8 kB\u001b[0m \u001b[31m8.9 MB/s\u001b[0m eta \u001b[36m0:00:00\u001b[0m\n",
            "\u001b[?25hRequirement already satisfied: fsspec in /usr/local/lib/python3.10/dist-packages (from gradio-client==0.16.4->gradio) (2023.6.0)\n",
            "Collecting websockets<12.0,>=10.0 (from gradio-client==0.16.4->gradio)\n",
            "  Downloading websockets-11.0.3-cp310-cp310-manylinux_2_5_x86_64.manylinux1_x86_64.manylinux_2_17_x86_64.manylinux2014_x86_64.whl (129 kB)\n",
            "\u001b[2K     \u001b[90m━━━━━━━━━━━━━━━━━━━━━━━━━━━━━━━━━━━━━━━━\u001b[0m \u001b[32m129.9/129.9 kB\u001b[0m \u001b[31m18.4 MB/s\u001b[0m eta \u001b[36m0:00:00\u001b[0m\n",
            "\u001b[?25hRequirement already satisfied: entrypoints in /usr/local/lib/python3.10/dist-packages (from altair<6.0,>=4.2.0->gradio) (0.4)\n",
            "Requirement already satisfied: jsonschema>=3.0 in /usr/local/lib/python3.10/dist-packages (from altair<6.0,>=4.2.0->gradio) (4.19.2)\n",
            "Requirement already satisfied: toolz in /usr/local/lib/python3.10/dist-packages (from altair<6.0,>=4.2.0->gradio) (0.12.1)\n",
            "Requirement already satisfied: anyio in /usr/local/lib/python3.10/dist-packages (from httpx>=0.24.1->gradio) (3.7.1)\n",
            "Requirement already satisfied: certifi in /usr/local/lib/python3.10/dist-packages (from httpx>=0.24.1->gradio) (2024.2.2)\n",
            "Collecting httpcore==1.* (from httpx>=0.24.1->gradio)\n",
            "  Downloading httpcore-1.0.5-py3-none-any.whl (77 kB)\n",
            "\u001b[2K     \u001b[90m━━━━━━━━━━━━━━━━━━━━━━━━━━━━━━━━━━━━━━━━\u001b[0m \u001b[32m77.9/77.9 kB\u001b[0m \u001b[31m12.8 MB/s\u001b[0m eta \u001b[36m0:00:00\u001b[0m\n",
            "\u001b[?25hRequirement already satisfied: idna in /usr/local/lib/python3.10/dist-packages (from httpx>=0.24.1->gradio) (3.7)\n",
            "Requirement already satisfied: sniffio in /usr/local/lib/python3.10/dist-packages (from httpx>=0.24.1->gradio) (1.3.1)\n",
            "Collecting h11<0.15,>=0.13 (from httpcore==1.*->httpx>=0.24.1->gradio)\n",
            "  Downloading h11-0.14.0-py3-none-any.whl (58 kB)\n",
            "\u001b[2K     \u001b[90m━━━━━━━━━━━━━━━━━━━━━━━━━━━━━━━━━━━━━━━━\u001b[0m \u001b[32m58.3/58.3 kB\u001b[0m \u001b[31m10.0 MB/s\u001b[0m eta \u001b[36m0:00:00\u001b[0m\n",
            "\u001b[?25hRequirement already satisfied: filelock in /usr/local/lib/python3.10/dist-packages (from huggingface-hub>=0.19.3->gradio) (3.14.0)\n",
            "Requirement already satisfied: requests in /usr/local/lib/python3.10/dist-packages (from huggingface-hub>=0.19.3->gradio) (2.31.0)\n",
            "Requirement already satisfied: tqdm>=4.42.1 in /usr/local/lib/python3.10/dist-packages (from huggingface-hub>=0.19.3->gradio) (4.66.4)\n",
            "Requirement already satisfied: contourpy>=1.0.1 in /usr/local/lib/python3.10/dist-packages (from matplotlib~=3.0->gradio) (1.2.1)\n",
            "Requirement already satisfied: cycler>=0.10 in /usr/local/lib/python3.10/dist-packages (from matplotlib~=3.0->gradio) (0.12.1)\n",
            "Requirement already satisfied: fonttools>=4.22.0 in /usr/local/lib/python3.10/dist-packages (from matplotlib~=3.0->gradio) (4.51.0)\n",
            "Requirement already satisfied: kiwisolver>=1.0.1 in /usr/local/lib/python3.10/dist-packages (from matplotlib~=3.0->gradio) (1.4.5)\n",
            "Requirement already satisfied: pyparsing>=2.3.1 in /usr/local/lib/python3.10/dist-packages (from matplotlib~=3.0->gradio) (3.1.2)\n",
            "Requirement already satisfied: python-dateutil>=2.7 in /usr/local/lib/python3.10/dist-packages (from matplotlib~=3.0->gradio) (2.8.2)\n",
            "Requirement already satisfied: pytz>=2020.1 in /usr/local/lib/python3.10/dist-packages (from pandas<3.0,>=1.0->gradio) (2023.4)\n",
            "Requirement already satisfied: tzdata>=2022.1 in /usr/local/lib/python3.10/dist-packages (from pandas<3.0,>=1.0->gradio) (2024.1)\n",
            "Requirement already satisfied: annotated-types>=0.4.0 in /usr/local/lib/python3.10/dist-packages (from pydantic>=2.0->gradio) (0.7.0)\n",
            "Requirement already satisfied: pydantic-core==2.18.2 in /usr/local/lib/python3.10/dist-packages (from pydantic>=2.0->gradio) (2.18.2)\n",
            "Requirement already satisfied: click>=8.0.0 in /usr/local/lib/python3.10/dist-packages (from typer<1.0,>=0.12->gradio) (8.1.7)\n",
            "Collecting shellingham>=1.3.0 (from typer<1.0,>=0.12->gradio)\n",
            "  Downloading shellingham-1.5.4-py2.py3-none-any.whl (9.8 kB)\n",
            "Requirement already satisfied: rich>=10.11.0 in /usr/local/lib/python3.10/dist-packages (from typer<1.0,>=0.12->gradio) (13.7.1)\n",
            "Collecting starlette<0.38.0,>=0.37.2 (from fastapi->gradio)\n",
            "  Downloading starlette-0.37.2-py3-none-any.whl (71 kB)\n",
            "\u001b[2K     \u001b[90m━━━━━━━━━━━━━━━━━━━━━━━━━━━━━━━━━━━━━━━━\u001b[0m \u001b[32m71.9/71.9 kB\u001b[0m \u001b[31m10.7 MB/s\u001b[0m eta \u001b[36m0:00:00\u001b[0m\n",
            "\u001b[?25hCollecting fastapi-cli>=0.0.2 (from fastapi->gradio)\n",
            "  Downloading fastapi_cli-0.0.4-py3-none-any.whl (9.5 kB)\n",
            "Collecting ujson!=4.0.2,!=4.1.0,!=4.2.0,!=4.3.0,!=5.0.0,!=5.1.0,>=4.0.1 (from fastapi->gradio)\n",
            "  Downloading ujson-5.10.0-cp310-cp310-manylinux_2_17_x86_64.manylinux2014_x86_64.whl (53 kB)\n",
            "\u001b[2K     \u001b[90m━━━━━━━━━━━━━━━━━━━━━━━━━━━━━━━━━━━━━━━━\u001b[0m \u001b[32m53.6/53.6 kB\u001b[0m \u001b[31m6.7 MB/s\u001b[0m eta \u001b[36m0:00:00\u001b[0m\n",
            "\u001b[?25hCollecting email_validator>=2.0.0 (from fastapi->gradio)\n",
            "  Downloading email_validator-2.1.1-py3-none-any.whl (30 kB)\n",
            "Collecting dnspython>=2.0.0 (from email_validator>=2.0.0->fastapi->gradio)\n",
            "  Downloading dnspython-2.6.1-py3-none-any.whl (307 kB)\n",
            "\u001b[2K     \u001b[90m━━━━━━━━━━━━━━━━━━━━━━━━━━━━━━━━━━━━━━━━\u001b[0m \u001b[32m307.7/307.7 kB\u001b[0m \u001b[31m31.8 MB/s\u001b[0m eta \u001b[36m0:00:00\u001b[0m\n",
            "\u001b[?25hRequirement already satisfied: attrs>=22.2.0 in /usr/local/lib/python3.10/dist-packages (from jsonschema>=3.0->altair<6.0,>=4.2.0->gradio) (23.2.0)\n",
            "Requirement already satisfied: jsonschema-specifications>=2023.03.6 in /usr/local/lib/python3.10/dist-packages (from jsonschema>=3.0->altair<6.0,>=4.2.0->gradio) (2023.12.1)\n",
            "Requirement already satisfied: referencing>=0.28.4 in /usr/local/lib/python3.10/dist-packages (from jsonschema>=3.0->altair<6.0,>=4.2.0->gradio) (0.35.1)\n",
            "Requirement already satisfied: rpds-py>=0.7.1 in /usr/local/lib/python3.10/dist-packages (from jsonschema>=3.0->altair<6.0,>=4.2.0->gradio) (0.18.1)\n",
            "Requirement already satisfied: six>=1.5 in /usr/local/lib/python3.10/dist-packages (from python-dateutil>=2.7->matplotlib~=3.0->gradio) (1.16.0)\n",
            "Requirement already satisfied: markdown-it-py>=2.2.0 in /usr/local/lib/python3.10/dist-packages (from rich>=10.11.0->typer<1.0,>=0.12->gradio) (3.0.0)\n",
            "Requirement already satisfied: pygments<3.0.0,>=2.13.0 in /usr/local/lib/python3.10/dist-packages (from rich>=10.11.0->typer<1.0,>=0.12->gradio) (2.16.1)\n",
            "Requirement already satisfied: exceptiongroup in /usr/local/lib/python3.10/dist-packages (from anyio->httpx>=0.24.1->gradio) (1.2.1)\n",
            "Collecting httptools>=0.5.0 (from uvicorn>=0.14.0->gradio)\n",
            "  Downloading httptools-0.6.1-cp310-cp310-manylinux_2_5_x86_64.manylinux1_x86_64.manylinux_2_17_x86_64.manylinux2014_x86_64.whl (341 kB)\n",
            "\u001b[2K     \u001b[90m━━━━━━━━━━━━━━━━━━━━━━━━━━━━━━━━━━━━━━━━\u001b[0m \u001b[32m341.4/341.4 kB\u001b[0m \u001b[31m45.2 MB/s\u001b[0m eta \u001b[36m0:00:00\u001b[0m\n",
            "\u001b[?25hCollecting python-dotenv>=0.13 (from uvicorn>=0.14.0->gradio)\n",
            "  Downloading python_dotenv-1.0.1-py3-none-any.whl (19 kB)\n",
            "Collecting uvloop!=0.15.0,!=0.15.1,>=0.14.0 (from uvicorn>=0.14.0->gradio)\n",
            "  Downloading uvloop-0.19.0-cp310-cp310-manylinux_2_17_x86_64.manylinux2014_x86_64.whl (3.4 MB)\n",
            "\u001b[2K     \u001b[90m━━━━━━━━━━━━━━━━━━━━━━━━━━━━━━━━━━━━━━━━\u001b[0m \u001b[32m3.4/3.4 MB\u001b[0m \u001b[31m99.6 MB/s\u001b[0m eta \u001b[36m0:00:00\u001b[0m\n",
            "\u001b[?25hCollecting watchfiles>=0.13 (from uvicorn>=0.14.0->gradio)\n",
            "  Downloading watchfiles-0.22.0-cp310-cp310-manylinux_2_17_x86_64.manylinux2014_x86_64.whl (1.2 MB)\n",
            "\u001b[2K     \u001b[90m━━━━━━━━━━━━━━━━━━━━━━━━━━━━━━━━━━━━━━━━\u001b[0m \u001b[32m1.2/1.2 MB\u001b[0m \u001b[31m82.7 MB/s\u001b[0m eta \u001b[36m0:00:00\u001b[0m\n",
            "\u001b[?25hRequirement already satisfied: charset-normalizer<4,>=2 in /usr/local/lib/python3.10/dist-packages (from requests->huggingface-hub>=0.19.3->gradio) (3.3.2)\n",
            "Requirement already satisfied: mdurl~=0.1 in /usr/local/lib/python3.10/dist-packages (from markdown-it-py>=2.2.0->rich>=10.11.0->typer<1.0,>=0.12->gradio) (0.1.2)\n",
            "Building wheels for collected packages: ffmpy\n",
            "  Building wheel for ffmpy (setup.py) ... \u001b[?25l\u001b[?25hdone\n",
            "  Created wheel for ffmpy: filename=ffmpy-0.3.2-py3-none-any.whl size=5584 sha256=1d1559c04f26047c701cb05124479a8fabdc32894b728feea128c9f34280248b\n",
            "  Stored in directory: /root/.cache/pip/wheels/bd/65/9a/671fc6dcde07d4418df0c592f8df512b26d7a0029c2a23dd81\n",
            "Successfully built ffmpy\n",
            "Installing collected packages: pydub, ffmpy, websockets, uvloop, ujson, tomlkit, shellingham, semantic-version, ruff, python-multipart, python-dotenv, orjson, httptools, h11, dnspython, aiofiles, watchfiles, uvicorn, starlette, httpcore, email_validator, typer, httpx, gradio-client, fastapi-cli, fastapi, gradio\n",
            "  Attempting uninstall: typer\n",
            "    Found existing installation: typer 0.9.4\n",
            "    Uninstalling typer-0.9.4:\n",
            "      Successfully uninstalled typer-0.9.4\n",
            "\u001b[31mERROR: pip's dependency resolver does not currently take into account all the packages that are installed. This behaviour is the source of the following dependency conflicts.\n",
            "spacy 3.7.4 requires typer<0.10.0,>=0.3.0, but you have typer 0.12.3 which is incompatible.\n",
            "weasel 0.3.4 requires typer<0.10.0,>=0.3.0, but you have typer 0.12.3 which is incompatible.\u001b[0m\u001b[31m\n",
            "\u001b[0mSuccessfully installed aiofiles-23.2.1 dnspython-2.6.1 email_validator-2.1.1 fastapi-0.111.0 fastapi-cli-0.0.4 ffmpy-0.3.2 gradio-4.31.5 gradio-client-0.16.4 h11-0.14.0 httpcore-1.0.5 httptools-0.6.1 httpx-0.27.0 orjson-3.10.3 pydub-0.25.1 python-dotenv-1.0.1 python-multipart-0.0.9 ruff-0.4.5 semantic-version-2.10.0 shellingham-1.5.4 starlette-0.37.2 tomlkit-0.12.0 typer-0.12.3 ujson-5.10.0 uvicorn-0.29.0 uvloop-0.19.0 watchfiles-0.22.0 websockets-11.0.3\n"
          ]
        }
      ]
    },
    {
      "cell_type": "code",
      "source": [
        "model = model.to('cpu')"
      ],
      "metadata": {
        "id": "r9mF6DNpz7z-"
      },
      "execution_count": 83,
      "outputs": []
    },
    {
      "cell_type": "code",
      "source": [
        "title = \"Salary Predictor\"\n",
        "description = \"This is a test project to see if I could built a Machine Learning model to predict salary offered based on a posted job description. To test, copy a whole job description from a linkedIn post. Results are in USD.\"\n",
        "article = ''' This project was built by Marie Pelletier <br/>\n",
        "            <a href=\"https://www.linkedin.com/in/marie-pelletier-14837441/\">LinkedIn</a><br/>\n",
        "            <a href=\"https://github.com/Marie000\">Github</a>\n",
        "        </p>\n",
        "        <p>This is a work in progress and is not meant to be used as an accurate predictor of salary. It is limited by the <a\n",
        "            href=\"https://www.kaggle.com/datasets/arshkon/linkedin-job-postings/data\">data that was\n",
        "            used</a>, which is US-based, from 2023. It also does not take into account regions or fluctuations in the\n",
        "        market over time. The dataset included over 33,000 job postings, but only 13,000 had salary information.</p>\n",
        "        <p>For all you statistic nerds, the r-squared score of the model was around 0.6. For the rest of you, that level of accuracy can probably be described as \"better than nothing\". It might have been better if I had\n",
        "        more data to work with. Or maybe there is just so much we can infer from a description alone.</p>\n",
        "        <p>For this first test, only the description of the job is taken into account. Adding other information, including the date of the posting and the location, could improve the prediction.</p>\n",
        "        <p>The google colab notebook used to generate this model can be found <a href=\"\">here</a>'''"
      ],
      "metadata": {
        "id": "mOVzPU-3J00w"
      },
      "execution_count": 84,
      "outputs": []
    },
    {
      "cell_type": "code",
      "source": [
        "demo = gr.Interface(\n",
        "    fn=predict,\n",
        "    inputs=gr.Textbox(lines=20, placeholder=\"copy whole job description here\"),\n",
        "    outputs=\"number\",\n",
        "    title=title,\n",
        "    description=description,\n",
        "    article=article\n",
        ")"
      ],
      "metadata": {
        "id": "SttUIpOp1DTD"
      },
      "execution_count": 72,
      "outputs": []
    },
    {
      "cell_type": "code",
      "source": [
        "demo.launch(debug=False, share=True)"
      ],
      "metadata": {
        "colab": {
          "base_uri": "https://localhost:8080/",
          "height": 611
        },
        "id": "M8kGJgov1WSB",
        "outputId": "ef82ae5d-f43b-4ef2-c481-10b4b29507e7"
      },
      "execution_count": 73,
      "outputs": [
        {
          "output_type": "stream",
          "name": "stdout",
          "text": [
            "Colab notebook detected. To show errors in colab notebook, set debug=True in launch()\n",
            "Running on public URL: https://9ed207636a9447c4f1.gradio.live\n",
            "\n",
            "This share link expires in 72 hours. For free permanent hosting and GPU upgrades, run `gradio deploy` from Terminal to deploy to Spaces (https://huggingface.co/spaces)\n"
          ]
        },
        {
          "output_type": "display_data",
          "data": {
            "text/plain": [
              "<IPython.core.display.HTML object>"
            ],
            "text/html": [
              "<div><iframe src=\"https://9ed207636a9447c4f1.gradio.live\" width=\"100%\" height=\"500\" allow=\"autoplay; camera; microphone; clipboard-read; clipboard-write;\" frameborder=\"0\" allowfullscreen></iframe></div>"
            ]
          },
          "metadata": {}
        },
        {
          "output_type": "execute_result",
          "data": {
            "text/plain": []
          },
          "metadata": {},
          "execution_count": 73
        }
      ]
    },
    {
      "cell_type": "code",
      "source": [],
      "metadata": {
        "id": "O293Wmnb14Jo"
      },
      "execution_count": null,
      "outputs": []
    }
  ]
}